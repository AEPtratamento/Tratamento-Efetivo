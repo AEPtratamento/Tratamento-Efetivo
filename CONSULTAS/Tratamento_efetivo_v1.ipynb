{
 "cells": [
  {
   "cell_type": "code",
   "execution_count": 3,
   "metadata": {},
   "outputs": [],
   "source": [
    "import seaborn as sns\n",
    "import pandas as pd\n",
    "import psycopg2"
   ]
  },
  {
   "cell_type": "code",
   "execution_count": 6,
   "metadata": {},
   "outputs": [],
   "source": [
    "conn = psycopg2.connect(host=\"localhost\",database=\"tratamento_efetivo\", user=\"postgres\", password=\"1234\")"
   ]
  },
  {
   "cell_type": "markdown",
   "metadata": {},
   "source": [
    "# Relatório 1"
   ]
  },
  {
   "cell_type": "markdown",
   "metadata": {},
   "source": [
    "#### Relatório para informar os tratamentos em andamento"
   ]
  },
  {
   "cell_type": "code",
   "execution_count": 25,
   "metadata": {},
   "outputs": [],
   "source": [
    "relatorio1 = pd.read_sql_query(\"\"\"\n",
    "select pac.nome_paciente,indisp.indisposicao as \n",
    "\"Tratamento\", med.nome_medico, trat.ini_trat,trat.fim_trat,hosp.hospital from tratamento trat\n",
    "inner join paciente pac on (pac.cod_paciente = trat.cod_paciente) inner join medico med on (trat.cod_medico = med.cod_medico)\n",
    "inner join indisposicao indisp on (trat.cod_indisposicao = indisp.cod_indisposicao) \n",
    "inner join hospital hosp on (trat.cod_hospital = hosp.cod_hospital) where fim_trat is null\n",
    "                            \"\"\",conn)"
   ]
  },
  {
   "cell_type": "code",
   "execution_count": 26,
   "metadata": {},
   "outputs": [
    {
     "data": {
      "text/html": [
       "<div>\n",
       "<style scoped>\n",
       "    .dataframe tbody tr th:only-of-type {\n",
       "        vertical-align: middle;\n",
       "    }\n",
       "\n",
       "    .dataframe tbody tr th {\n",
       "        vertical-align: top;\n",
       "    }\n",
       "\n",
       "    .dataframe thead th {\n",
       "        text-align: right;\n",
       "    }\n",
       "</style>\n",
       "<table border=\"1\" class=\"dataframe\">\n",
       "  <thead>\n",
       "    <tr style=\"text-align: right;\">\n",
       "      <th></th>\n",
       "      <th>nome_paciente</th>\n",
       "      <th>Tratamento</th>\n",
       "      <th>nome_medico</th>\n",
       "      <th>ini_trat</th>\n",
       "      <th>fim_trat</th>\n",
       "      <th>hospital</th>\n",
       "    </tr>\n",
       "  </thead>\n",
       "  <tbody>\n",
       "    <tr>\n",
       "      <th>0</th>\n",
       "      <td>João Pedro</td>\n",
       "      <td>Insônia</td>\n",
       "      <td>Alfredo Guerra Tutsk</td>\n",
       "      <td>2017-02-18</td>\n",
       "      <td>None</td>\n",
       "      <td>Hospital Regional Dantas Biao</td>\n",
       "    </tr>\n",
       "    <tr>\n",
       "      <th>1</th>\n",
       "      <td>Miguel Pereira</td>\n",
       "      <td>Pressão alta</td>\n",
       "      <td>Priscila Catrina</td>\n",
       "      <td>2016-08-10</td>\n",
       "      <td>None</td>\n",
       "      <td>Hospital Santa Cruz</td>\n",
       "    </tr>\n",
       "    <tr>\n",
       "      <th>2</th>\n",
       "      <td>Thiago Correia Neves</td>\n",
       "      <td>Depressão</td>\n",
       "      <td>Sabrina Fantin</td>\n",
       "      <td>2017-06-17</td>\n",
       "      <td>None</td>\n",
       "      <td>Hospital Israelita Albert Einstein</td>\n",
       "    </tr>\n",
       "  </tbody>\n",
       "</table>\n",
       "</div>"
      ],
      "text/plain": [
       "          nome_paciente    Tratamento           nome_medico    ini_trat  \\\n",
       "0            João Pedro       Insônia  Alfredo Guerra Tutsk  2017-02-18   \n",
       "1        Miguel Pereira  Pressão alta      Priscila Catrina  2016-08-10   \n",
       "2  Thiago Correia Neves     Depressão        Sabrina Fantin  2017-06-17   \n",
       "\n",
       "  fim_trat                            hospital  \n",
       "0     None       Hospital Regional Dantas Biao  \n",
       "1     None                 Hospital Santa Cruz  \n",
       "2     None  Hospital Israelita Albert Einstein  "
      ]
     },
     "execution_count": 26,
     "metadata": {},
     "output_type": "execute_result"
    }
   ],
   "source": [
    "relatorio1"
   ]
  },
  {
   "cell_type": "markdown",
   "metadata": {},
   "source": [
    "# Relatório 2"
   ]
  },
  {
   "cell_type": "markdown",
   "metadata": {},
   "source": [
    "#### Relatório que retorna quais hospitais os tratamentos foram finalizados\n"
   ]
  },
  {
   "cell_type": "code",
   "execution_count": 27,
   "metadata": {},
   "outputs": [],
   "source": [
    "relatorio2 = pd.read_sql_query(\"\"\"\n",
    "select hosp.hospital,indisp.indisposicao \n",
    "as \"Tratamento\", trat.ini_trat,trat.fim_trat from tratamento trat\n",
    "inner join hospital hosp on (trat.cod_hospital = hosp.cod_hospital)\n",
    "inner join indisposicao indisp on (trat.cod_indisposicao = indisp.cod_indisposicao)\n",
    "where fim_trat is not null\n",
    "                            \"\"\",conn)"
   ]
  },
  {
   "cell_type": "code",
   "execution_count": 63,
   "metadata": {},
   "outputs": [
    {
     "data": {
      "text/html": [
       "<div>\n",
       "<style scoped>\n",
       "    .dataframe tbody tr th:only-of-type {\n",
       "        vertical-align: middle;\n",
       "    }\n",
       "\n",
       "    .dataframe tbody tr th {\n",
       "        vertical-align: top;\n",
       "    }\n",
       "\n",
       "    .dataframe thead th {\n",
       "        text-align: right;\n",
       "    }\n",
       "</style>\n",
       "<table border=\"1\" class=\"dataframe\">\n",
       "  <thead>\n",
       "    <tr style=\"text-align: right;\">\n",
       "      <th></th>\n",
       "      <th>hospital</th>\n",
       "      <th>Tratamento</th>\n",
       "      <th>ini_trat</th>\n",
       "      <th>fim_trat</th>\n",
       "    </tr>\n",
       "  </thead>\n",
       "  <tbody>\n",
       "    <tr>\n",
       "      <th>0</th>\n",
       "      <td>Hospital Vitória Apart</td>\n",
       "      <td>Gripe</td>\n",
       "      <td>2017-11-15</td>\n",
       "      <td>2017-11-20</td>\n",
       "    </tr>\n",
       "    <tr>\n",
       "      <th>1</th>\n",
       "      <td>Hospital São Camilo</td>\n",
       "      <td>Asma</td>\n",
       "      <td>2017-03-02</td>\n",
       "      <td>2017-04-01</td>\n",
       "    </tr>\n",
       "    <tr>\n",
       "      <th>2</th>\n",
       "      <td>Hospital São Domingos</td>\n",
       "      <td>Pneumonia</td>\n",
       "      <td>2018-12-14</td>\n",
       "      <td>2018-12-28</td>\n",
       "    </tr>\n",
       "    <tr>\n",
       "      <th>3</th>\n",
       "      <td>Clínica Viver Bem</td>\n",
       "      <td>Labirintite</td>\n",
       "      <td>2019-02-16</td>\n",
       "      <td>2019-03-02</td>\n",
       "    </tr>\n",
       "    <tr>\n",
       "      <th>4</th>\n",
       "      <td>Hospital São Lucas Copacabana</td>\n",
       "      <td>Gastroenterite</td>\n",
       "      <td>2018-09-05</td>\n",
       "      <td>2018-09-10</td>\n",
       "    </tr>\n",
       "    <tr>\n",
       "      <th>5</th>\n",
       "      <td>Hospital Paineiras</td>\n",
       "      <td>Sinusite</td>\n",
       "      <td>2017-09-02</td>\n",
       "      <td>2017-09-17</td>\n",
       "    </tr>\n",
       "    <tr>\n",
       "      <th>6</th>\n",
       "      <td>Hospital Santa Rosália</td>\n",
       "      <td>Conjuntivite</td>\n",
       "      <td>2015-08-16</td>\n",
       "      <td>2015-08-23</td>\n",
       "    </tr>\n",
       "  </tbody>\n",
       "</table>\n",
       "</div>"
      ],
      "text/plain": [
       "                        hospital      Tratamento    ini_trat    fim_trat\n",
       "0         Hospital Vitória Apart           Gripe  2017-11-15  2017-11-20\n",
       "1            Hospital São Camilo            Asma  2017-03-02  2017-04-01\n",
       "2          Hospital São Domingos       Pneumonia  2018-12-14  2018-12-28\n",
       "3              Clínica Viver Bem     Labirintite  2019-02-16  2019-03-02\n",
       "4  Hospital São Lucas Copacabana  Gastroenterite  2018-09-05  2018-09-10\n",
       "5             Hospital Paineiras        Sinusite  2017-09-02  2017-09-17\n",
       "6         Hospital Santa Rosália    Conjuntivite  2015-08-16  2015-08-23"
      ]
     },
     "execution_count": 63,
     "metadata": {},
     "output_type": "execute_result"
    }
   ],
   "source": [
    "relatorio2"
   ]
  },
  {
   "cell_type": "markdown",
   "metadata": {},
   "source": [
    "# Relatório 3"
   ]
  },
  {
   "cell_type": "markdown",
   "metadata": {},
   "source": [
    "#### Relatório que informa quantos tratamentos foram finalizados no hospital, desde que tenha tratamentos registrado no hospital\n"
   ]
  },
  {
   "cell_type": "code",
   "execution_count": 83,
   "metadata": {},
   "outputs": [],
   "source": [
    "relatorio3 = pd.read_sql_query(\"\"\"\n",
    "select hosp.hospital as hospital,count(trat.cod_hospital) as quantidade_de_tratamentos_realizado_pelo_hospital from tratamento trat\n",
    "inner join hospital hosp on (trat.cod_hospital = hosp.cod_hospital) where fim_trat is not null group by hosp.cod_hospital;\n",
    "                            \"\"\",conn)"
   ]
  },
  {
   "cell_type": "code",
   "execution_count": 84,
   "metadata": {},
   "outputs": [
    {
     "data": {
      "text/html": [
       "<div>\n",
       "<style scoped>\n",
       "    .dataframe tbody tr th:only-of-type {\n",
       "        vertical-align: middle;\n",
       "    }\n",
       "\n",
       "    .dataframe tbody tr th {\n",
       "        vertical-align: top;\n",
       "    }\n",
       "\n",
       "    .dataframe thead th {\n",
       "        text-align: right;\n",
       "    }\n",
       "</style>\n",
       "<table border=\"1\" class=\"dataframe\">\n",
       "  <thead>\n",
       "    <tr style=\"text-align: right;\">\n",
       "      <th></th>\n",
       "      <th>hospital</th>\n",
       "      <th>quantidade_de_tratamentos_realizado_pelo_hospital</th>\n",
       "    </tr>\n",
       "  </thead>\n",
       "  <tbody>\n",
       "    <tr>\n",
       "      <th>0</th>\n",
       "      <td>Hospital São Lucas Copacabana</td>\n",
       "      <td>1</td>\n",
       "    </tr>\n",
       "    <tr>\n",
       "      <th>1</th>\n",
       "      <td>Hospital Vitória Apart</td>\n",
       "      <td>1</td>\n",
       "    </tr>\n",
       "    <tr>\n",
       "      <th>2</th>\n",
       "      <td>Clínica Viver Bem</td>\n",
       "      <td>1</td>\n",
       "    </tr>\n",
       "    <tr>\n",
       "      <th>3</th>\n",
       "      <td>Hospital São Domingos</td>\n",
       "      <td>1</td>\n",
       "    </tr>\n",
       "    <tr>\n",
       "      <th>4</th>\n",
       "      <td>Hospital Santa Rosália</td>\n",
       "      <td>1</td>\n",
       "    </tr>\n",
       "    <tr>\n",
       "      <th>5</th>\n",
       "      <td>Hospital São Camilo</td>\n",
       "      <td>1</td>\n",
       "    </tr>\n",
       "    <tr>\n",
       "      <th>6</th>\n",
       "      <td>Hospital Paineiras</td>\n",
       "      <td>1</td>\n",
       "    </tr>\n",
       "  </tbody>\n",
       "</table>\n",
       "</div>"
      ],
      "text/plain": [
       "                        hospital  \\\n",
       "0  Hospital São Lucas Copacabana   \n",
       "1         Hospital Vitória Apart   \n",
       "2              Clínica Viver Bem   \n",
       "3          Hospital São Domingos   \n",
       "4         Hospital Santa Rosália   \n",
       "5            Hospital São Camilo   \n",
       "6             Hospital Paineiras   \n",
       "\n",
       "   quantidade_de_tratamentos_realizado_pelo_hospital  \n",
       "0                                                  1  \n",
       "1                                                  1  \n",
       "2                                                  1  \n",
       "3                                                  1  \n",
       "4                                                  1  \n",
       "5                                                  1  \n",
       "6                                                  1  "
      ]
     },
     "execution_count": 84,
     "metadata": {},
     "output_type": "execute_result"
    }
   ],
   "source": [
    "relatorio3"
   ]
  },
  {
   "cell_type": "code",
   "execution_count": 87,
   "metadata": {},
   "outputs": [
    {
     "ename": "AttributeError",
     "evalue": "'DataFrame' object has no attribute 'quantidade_de_tratamentos_realizado_pelo_hospital'",
     "output_type": "error",
     "traceback": [
      "\u001b[1;31m---------------------------------------------------------------------------\u001b[0m",
      "\u001b[1;31mAttributeError\u001b[0m                            Traceback (most recent call last)",
      "\u001b[1;32m<ipython-input-87-aa30ede6d30b>\u001b[0m in \u001b[0;36m<module>\u001b[1;34m\u001b[0m\n\u001b[0;32m      5\u001b[0m \u001b[0mobjects\u001b[0m \u001b[1;33m=\u001b[0m \u001b[0mtuple\u001b[0m\u001b[1;33m(\u001b[0m\u001b[0mdf\u001b[0m\u001b[1;33m.\u001b[0m\u001b[0mhospital\u001b[0m\u001b[1;33m)\u001b[0m\u001b[1;33m\u001b[0m\u001b[0m\n\u001b[0;32m      6\u001b[0m \u001b[0my_pos\u001b[0m \u001b[1;33m=\u001b[0m \u001b[0mnp\u001b[0m\u001b[1;33m.\u001b[0m\u001b[0marange\u001b[0m\u001b[1;33m(\u001b[0m\u001b[0mlen\u001b[0m\u001b[1;33m(\u001b[0m\u001b[0mobjects\u001b[0m\u001b[1;33m)\u001b[0m\u001b[1;33m)\u001b[0m\u001b[1;33m\u001b[0m\u001b[0m\n\u001b[1;32m----> 7\u001b[1;33m \u001b[0mperformance\u001b[0m \u001b[1;33m=\u001b[0m \u001b[0mlist\u001b[0m\u001b[1;33m(\u001b[0m\u001b[0mdf\u001b[0m\u001b[1;33m.\u001b[0m\u001b[0mquantidade_de_tratamentos_realizado_pelo_hospital\u001b[0m\u001b[1;33m)\u001b[0m\u001b[1;33m\u001b[0m\u001b[0m\n\u001b[0m\u001b[0;32m      8\u001b[0m \u001b[1;33m\u001b[0m\u001b[0m\n\u001b[0;32m      9\u001b[0m \u001b[0mplt\u001b[0m\u001b[1;33m.\u001b[0m\u001b[0mbar\u001b[0m\u001b[1;33m(\u001b[0m\u001b[0my_pos\u001b[0m\u001b[1;33m,\u001b[0m \u001b[0mperformance\u001b[0m\u001b[1;33m,\u001b[0m \u001b[0malign\u001b[0m\u001b[1;33m=\u001b[0m\u001b[1;34m'center'\u001b[0m\u001b[1;33m,\u001b[0m \u001b[0malpha\u001b[0m\u001b[1;33m=\u001b[0m\u001b[1;36m0.5\u001b[0m\u001b[1;33m)\u001b[0m\u001b[1;33m\u001b[0m\u001b[0m\n",
      "\u001b[1;32m~\\AppData\\Roaming\\Python\\Python36\\site-packages\\pandas\\core\\generic.py\u001b[0m in \u001b[0;36m__getattr__\u001b[1;34m(self, name)\u001b[0m\n\u001b[0;32m   5065\u001b[0m             \u001b[1;32mif\u001b[0m \u001b[0mself\u001b[0m\u001b[1;33m.\u001b[0m\u001b[0m_info_axis\u001b[0m\u001b[1;33m.\u001b[0m\u001b[0m_can_hold_identifiers_and_holds_name\u001b[0m\u001b[1;33m(\u001b[0m\u001b[0mname\u001b[0m\u001b[1;33m)\u001b[0m\u001b[1;33m:\u001b[0m\u001b[1;33m\u001b[0m\u001b[0m\n\u001b[0;32m   5066\u001b[0m                 \u001b[1;32mreturn\u001b[0m \u001b[0mself\u001b[0m\u001b[1;33m[\u001b[0m\u001b[0mname\u001b[0m\u001b[1;33m]\u001b[0m\u001b[1;33m\u001b[0m\u001b[0m\n\u001b[1;32m-> 5067\u001b[1;33m             \u001b[1;32mreturn\u001b[0m \u001b[0mobject\u001b[0m\u001b[1;33m.\u001b[0m\u001b[0m__getattribute__\u001b[0m\u001b[1;33m(\u001b[0m\u001b[0mself\u001b[0m\u001b[1;33m,\u001b[0m \u001b[0mname\u001b[0m\u001b[1;33m)\u001b[0m\u001b[1;33m\u001b[0m\u001b[0m\n\u001b[0m\u001b[0;32m   5068\u001b[0m \u001b[1;33m\u001b[0m\u001b[0m\n\u001b[0;32m   5069\u001b[0m     \u001b[1;32mdef\u001b[0m \u001b[0m__setattr__\u001b[0m\u001b[1;33m(\u001b[0m\u001b[0mself\u001b[0m\u001b[1;33m,\u001b[0m \u001b[0mname\u001b[0m\u001b[1;33m,\u001b[0m \u001b[0mvalue\u001b[0m\u001b[1;33m)\u001b[0m\u001b[1;33m:\u001b[0m\u001b[1;33m\u001b[0m\u001b[0m\n",
      "\u001b[1;31mAttributeError\u001b[0m: 'DataFrame' object has no attribute 'quantidade_de_tratamentos_realizado_pelo_hospital'"
     ]
    }
   ],
   "source": [
    "import matplotlib.pyplot as plt; plt.rcdefaults()\n",
    "import numpy as np\n",
    "import matplotlib.pyplot as plt\n",
    " \n",
    "objects = tuple(df.hospital)\n",
    "y_pos = np.arange(len(objects))\n",
    "performance = list(df.quantidade_de_tratamentos_realizado_pelo_hospital)\n",
    " \n",
    "plt.bar(y_pos, performance, align='center', alpha=0.5)\n",
    "plt.xticks(y_pos, objects)\n",
    "plt.ylabel('Hospital')\n",
    "plt.title('Número de tratamentos finalizados')\n",
    " \n",
    "plt.show()"
   ]
  },
  {
   "cell_type": "markdown",
   "metadata": {},
   "source": [
    "# Relatório 4"
   ]
  },
  {
   "cell_type": "markdown",
   "metadata": {},
   "source": [
    "#### Relatório que informa quanto durou cada tratamento finalizado"
   ]
  },
  {
   "cell_type": "code",
   "execution_count": 78,
   "metadata": {},
   "outputs": [],
   "source": [
    "relatorio4 = pd.read_sql_query(\"\"\"\n",
    "select pac.nome_paciente,indisp.indisposicao as \n",
    "\"Tratamento\", trat.ini_trat,trat.fim_trat, age(fim_trat,ini_trat) as \"Duração do tratamento\" \n",
    "from tratamento trat inner join paciente pac on (pac.cod_paciente = trat.cod_paciente)\n",
    "inner join indisposicao indisp on (trat.cod_indisposicao = indisp.cod_indisposicao) \n",
    "where fim_trat is not null\n",
    "                            \"\"\",conn)"
   ]
  },
  {
   "cell_type": "code",
   "execution_count": 79,
   "metadata": {},
   "outputs": [
    {
     "data": {
      "text/html": [
       "<div>\n",
       "<style scoped>\n",
       "    .dataframe tbody tr th:only-of-type {\n",
       "        vertical-align: middle;\n",
       "    }\n",
       "\n",
       "    .dataframe tbody tr th {\n",
       "        vertical-align: top;\n",
       "    }\n",
       "\n",
       "    .dataframe thead th {\n",
       "        text-align: right;\n",
       "    }\n",
       "</style>\n",
       "<table border=\"1\" class=\"dataframe\">\n",
       "  <thead>\n",
       "    <tr style=\"text-align: right;\">\n",
       "      <th></th>\n",
       "      <th>nome_paciente</th>\n",
       "      <th>Tratamento</th>\n",
       "      <th>ini_trat</th>\n",
       "      <th>fim_trat</th>\n",
       "      <th>Duração do tratamento</th>\n",
       "    </tr>\n",
       "  </thead>\n",
       "  <tbody>\n",
       "    <tr>\n",
       "      <th>0</th>\n",
       "      <td>José Alves</td>\n",
       "      <td>Gripe</td>\n",
       "      <td>2017-11-15</td>\n",
       "      <td>2017-11-20</td>\n",
       "      <td>5 days</td>\n",
       "    </tr>\n",
       "    <tr>\n",
       "      <th>1</th>\n",
       "      <td>Maria Souza</td>\n",
       "      <td>Asma</td>\n",
       "      <td>2017-03-02</td>\n",
       "      <td>2017-04-01</td>\n",
       "      <td>30 days</td>\n",
       "    </tr>\n",
       "    <tr>\n",
       "      <th>2</th>\n",
       "      <td>Pedro Santos</td>\n",
       "      <td>Pneumonia</td>\n",
       "      <td>2018-12-14</td>\n",
       "      <td>2018-12-28</td>\n",
       "      <td>14 days</td>\n",
       "    </tr>\n",
       "    <tr>\n",
       "      <th>3</th>\n",
       "      <td>Ana Kruger Santos</td>\n",
       "      <td>Labirintite</td>\n",
       "      <td>2019-02-16</td>\n",
       "      <td>2019-03-02</td>\n",
       "      <td>14 days</td>\n",
       "    </tr>\n",
       "    <tr>\n",
       "      <th>4</th>\n",
       "      <td>Davi Santos</td>\n",
       "      <td>Gastroenterite</td>\n",
       "      <td>2018-09-05</td>\n",
       "      <td>2018-09-10</td>\n",
       "      <td>5 days</td>\n",
       "    </tr>\n",
       "    <tr>\n",
       "      <th>5</th>\n",
       "      <td>Clarice Pereira Silva</td>\n",
       "      <td>Sinusite</td>\n",
       "      <td>2017-09-02</td>\n",
       "      <td>2017-09-17</td>\n",
       "      <td>15 days</td>\n",
       "    </tr>\n",
       "    <tr>\n",
       "      <th>6</th>\n",
       "      <td>Joana Medeiros</td>\n",
       "      <td>Conjuntivite</td>\n",
       "      <td>2015-08-16</td>\n",
       "      <td>2015-08-23</td>\n",
       "      <td>7 days</td>\n",
       "    </tr>\n",
       "  </tbody>\n",
       "</table>\n",
       "</div>"
      ],
      "text/plain": [
       "           nome_paciente      Tratamento    ini_trat    fim_trat  \\\n",
       "0             José Alves           Gripe  2017-11-15  2017-11-20   \n",
       "1            Maria Souza            Asma  2017-03-02  2017-04-01   \n",
       "2           Pedro Santos       Pneumonia  2018-12-14  2018-12-28   \n",
       "3      Ana Kruger Santos     Labirintite  2019-02-16  2019-03-02   \n",
       "4            Davi Santos  Gastroenterite  2018-09-05  2018-09-10   \n",
       "5  Clarice Pereira Silva        Sinusite  2017-09-02  2017-09-17   \n",
       "6         Joana Medeiros    Conjuntivite  2015-08-16  2015-08-23   \n",
       "\n",
       "  Duração do tratamento  \n",
       "0                5 days  \n",
       "1               30 days  \n",
       "2               14 days  \n",
       "3               14 days  \n",
       "4                5 days  \n",
       "5               15 days  \n",
       "6                7 days  "
      ]
     },
     "execution_count": 79,
     "metadata": {},
     "output_type": "execute_result"
    }
   ],
   "source": [
    "relatorio4"
   ]
  },
  {
   "cell_type": "markdown",
   "metadata": {},
   "source": [
    "# Relatório 5"
   ]
  },
  {
   "cell_type": "markdown",
   "metadata": {},
   "source": [
    "#### Relatório contendo quantos medicamentos o paciente está usando em cada tratamento"
   ]
  },
  {
   "cell_type": "code",
   "execution_count": 88,
   "metadata": {},
   "outputs": [],
   "source": [
    "relatorio5 = pd.read_sql_query(\"\"\"\n",
    "select pac.nome_paciente,indisp.indisposicao as tratamento, count(med.cod_tratamento) as qtde_medicamento from tratamento trat\n",
    "inner join paciente pac on (trat.cod_paciente = pac.cod_paciente) \n",
    "inner join indisposicao indisp on (trat.cod_indisposicao = indisp.cod_indisposicao)\n",
    "inner join medicamento med on (trat.cod_tratamento = med.cod_tratamento)\n",
    "group by pac.cod_paciente,trat.cod_paciente,med.cod_tratamento,indisp.cod_indisposicao;\n",
    "                            \"\"\",conn)"
   ]
  },
  {
   "cell_type": "code",
   "execution_count": 89,
   "metadata": {},
   "outputs": [
    {
     "data": {
      "text/html": [
       "<div>\n",
       "<style scoped>\n",
       "    .dataframe tbody tr th:only-of-type {\n",
       "        vertical-align: middle;\n",
       "    }\n",
       "\n",
       "    .dataframe tbody tr th {\n",
       "        vertical-align: top;\n",
       "    }\n",
       "\n",
       "    .dataframe thead th {\n",
       "        text-align: right;\n",
       "    }\n",
       "</style>\n",
       "<table border=\"1\" class=\"dataframe\">\n",
       "  <thead>\n",
       "    <tr style=\"text-align: right;\">\n",
       "      <th></th>\n",
       "      <th>nome_paciente</th>\n",
       "      <th>tratamento</th>\n",
       "      <th>qtde_medicamento</th>\n",
       "    </tr>\n",
       "  </thead>\n",
       "  <tbody>\n",
       "    <tr>\n",
       "      <th>0</th>\n",
       "      <td>Joana Medeiros</td>\n",
       "      <td>Conjuntivite</td>\n",
       "      <td>1</td>\n",
       "    </tr>\n",
       "    <tr>\n",
       "      <th>1</th>\n",
       "      <td>Davi Santos</td>\n",
       "      <td>Gastroenterite</td>\n",
       "      <td>1</td>\n",
       "    </tr>\n",
       "    <tr>\n",
       "      <th>2</th>\n",
       "      <td>Pedro Santos</td>\n",
       "      <td>Pneumonia</td>\n",
       "      <td>1</td>\n",
       "    </tr>\n",
       "    <tr>\n",
       "      <th>3</th>\n",
       "      <td>Maria Souza</td>\n",
       "      <td>Asma</td>\n",
       "      <td>1</td>\n",
       "    </tr>\n",
       "    <tr>\n",
       "      <th>4</th>\n",
       "      <td>João Pedro</td>\n",
       "      <td>Insônia</td>\n",
       "      <td>1</td>\n",
       "    </tr>\n",
       "    <tr>\n",
       "      <th>5</th>\n",
       "      <td>Ana Kruger Santos</td>\n",
       "      <td>Labirintite</td>\n",
       "      <td>2</td>\n",
       "    </tr>\n",
       "    <tr>\n",
       "      <th>6</th>\n",
       "      <td>Thiago Correia Neves</td>\n",
       "      <td>Depressão</td>\n",
       "      <td>1</td>\n",
       "    </tr>\n",
       "    <tr>\n",
       "      <th>7</th>\n",
       "      <td>José Alves</td>\n",
       "      <td>Gripe</td>\n",
       "      <td>1</td>\n",
       "    </tr>\n",
       "    <tr>\n",
       "      <th>8</th>\n",
       "      <td>Clarice Pereira Silva</td>\n",
       "      <td>Sinusite</td>\n",
       "      <td>1</td>\n",
       "    </tr>\n",
       "    <tr>\n",
       "      <th>9</th>\n",
       "      <td>Miguel Pereira</td>\n",
       "      <td>Pressão alta</td>\n",
       "      <td>1</td>\n",
       "    </tr>\n",
       "  </tbody>\n",
       "</table>\n",
       "</div>"
      ],
      "text/plain": [
       "           nome_paciente      tratamento  qtde_medicamento\n",
       "0         Joana Medeiros    Conjuntivite                 1\n",
       "1            Davi Santos  Gastroenterite                 1\n",
       "2           Pedro Santos       Pneumonia                 1\n",
       "3            Maria Souza            Asma                 1\n",
       "4             João Pedro         Insônia                 1\n",
       "5      Ana Kruger Santos     Labirintite                 2\n",
       "6   Thiago Correia Neves       Depressão                 1\n",
       "7             José Alves           Gripe                 1\n",
       "8  Clarice Pereira Silva        Sinusite                 1\n",
       "9         Miguel Pereira    Pressão alta                 1"
      ]
     },
     "execution_count": 89,
     "metadata": {},
     "output_type": "execute_result"
    }
   ],
   "source": [
    "relatorio5"
   ]
  },
  {
   "cell_type": "code",
   "execution_count": null,
   "metadata": {},
   "outputs": [],
   "source": []
  }
 ],
 "metadata": {
  "kernelspec": {
   "display_name": "Python 3",
   "language": "python",
   "name": "python3"
  },
  "language_info": {
   "codemirror_mode": {
    "name": "ipython",
    "version": 3
   },
   "file_extension": ".py",
   "mimetype": "text/x-python",
   "name": "python",
   "nbconvert_exporter": "python",
   "pygments_lexer": "ipython3",
   "version": "3.6.4"
  }
 },
 "nbformat": 4,
 "nbformat_minor": 2
}
