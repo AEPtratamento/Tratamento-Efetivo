{
 "cells": [
  {
   "cell_type": "code",
   "execution_count": 79,
   "metadata": {},
   "outputs": [],
   "source": [
    "import seaborn as sns\n",
    "import pandas as pd\n",
    "import psycopg2"
   ]
  },
  {
   "cell_type": "markdown",
   "metadata": {},
   "source": [
    "Grupo: Ana Carolina, Emanuel Medeiros e Pedro Henrique \n",
    "Tema: Tratamento efetivo - 2019/1"
   ]
  },
  {
   "cell_type": "code",
   "execution_count": 80,
   "metadata": {},
   "outputs": [],
   "source": [
    "conn = psycopg2.connect(host=\"localhost\",database=\"tratamento_efetivo\", user=\"postgres\", password=\"1234\")"
   ]
  },
  {
   "cell_type": "markdown",
   "metadata": {},
   "source": [
    "# Relatório 1"
   ]
  },
  {
   "cell_type": "markdown",
   "metadata": {},
   "source": [
    "#### Relatório para informar os tratamentos em andamentos e a quantia de pacientes realizando esses tratamentos"
   ]
  },
  {
   "cell_type": "code",
   "execution_count": 84,
   "metadata": {},
   "outputs": [],
   "source": [
    "relatorio1 = pd.read_sql_query(\"\"\"\n",
    "select indisp.indisposicao as \n",
    "\"Doença_tratada\",count(trat.cod_tratamento) as qtde_pessoas_no_tratamento from tratamento trat\n",
    "inner join indisposicao indisp on (trat.cod_indisposicao = indisp.cod_indisposicao) \n",
    "where fim_trat is null group by indisp.indisposicao\n",
    "                            \"\"\",conn)"
   ]
  },
  {
   "cell_type": "code",
   "execution_count": 105,
   "metadata": {},
   "outputs": [
    {
     "data": {
      "text/html": [
       "<style  type=\"text/css\" >\n",
       "    #T_d6295fbe_9188_11e9_86d9_5cc9d36b9153row0_col1 {\n",
       "            background-color:  #a52a2a;\n",
       "            color:  #f1f1f1;\n",
       "        }    #T_d6295fbe_9188_11e9_86d9_5cc9d36b9153row1_col1 {\n",
       "            background-color:  #faebeb;\n",
       "            color:  #000000;\n",
       "        }    #T_d6295fbe_9188_11e9_86d9_5cc9d36b9153row2_col1 {\n",
       "            background-color:  #d89e9e;\n",
       "            color:  #000000;\n",
       "        }    #T_d6295fbe_9188_11e9_86d9_5cc9d36b9153row3_col1 {\n",
       "            background-color:  #faebeb;\n",
       "            color:  #000000;\n",
       "        }    #T_d6295fbe_9188_11e9_86d9_5cc9d36b9153row4_col1 {\n",
       "            background-color:  #d89e9e;\n",
       "            color:  #000000;\n",
       "        }    #T_d6295fbe_9188_11e9_86d9_5cc9d36b9153row5_col1 {\n",
       "            background-color:  #d89e9e;\n",
       "            color:  #000000;\n",
       "        }    #T_d6295fbe_9188_11e9_86d9_5cc9d36b9153row6_col1 {\n",
       "            background-color:  #b65151;\n",
       "            color:  #f1f1f1;\n",
       "        }    #T_d6295fbe_9188_11e9_86d9_5cc9d36b9153row7_col1 {\n",
       "            background-color:  #d89e9e;\n",
       "            color:  #000000;\n",
       "        }    #T_d6295fbe_9188_11e9_86d9_5cc9d36b9153row8_col1 {\n",
       "            background-color:  #c77777;\n",
       "            color:  #000000;\n",
       "        }    #T_d6295fbe_9188_11e9_86d9_5cc9d36b9153row9_col1 {\n",
       "            background-color:  #b65151;\n",
       "            color:  #f1f1f1;\n",
       "        }    #T_d6295fbe_9188_11e9_86d9_5cc9d36b9153row10_col1 {\n",
       "            background-color:  #c77777;\n",
       "            color:  #000000;\n",
       "        }</style><table id=\"T_d6295fbe_9188_11e9_86d9_5cc9d36b9153\" ><thead>    <tr>        <th class=\"blank level0\" ></th>        <th class=\"col_heading level0 col0\" >Doença_tratada</th>        <th class=\"col_heading level0 col1\" >qtde_pessoas_no_tratamento</th>    </tr></thead><tbody>\n",
       "                <tr>\n",
       "                        <th id=\"T_d6295fbe_9188_11e9_86d9_5cc9d36b9153level0_row0\" class=\"row_heading level0 row0\" >0</th>\n",
       "                        <td id=\"T_d6295fbe_9188_11e9_86d9_5cc9d36b9153row0_col0\" class=\"data row0 col0\" >Insônia</td>\n",
       "                        <td id=\"T_d6295fbe_9188_11e9_86d9_5cc9d36b9153row0_col1\" class=\"data row0 col1\" >6</td>\n",
       "            </tr>\n",
       "            <tr>\n",
       "                        <th id=\"T_d6295fbe_9188_11e9_86d9_5cc9d36b9153level0_row1\" class=\"row_heading level0 row1\" >1</th>\n",
       "                        <td id=\"T_d6295fbe_9188_11e9_86d9_5cc9d36b9153row1_col0\" class=\"data row1 col0\" >Catarata</td>\n",
       "                        <td id=\"T_d6295fbe_9188_11e9_86d9_5cc9d36b9153row1_col1\" class=\"data row1 col1\" >1</td>\n",
       "            </tr>\n",
       "            <tr>\n",
       "                        <th id=\"T_d6295fbe_9188_11e9_86d9_5cc9d36b9153level0_row2\" class=\"row_heading level0 row2\" >2</th>\n",
       "                        <td id=\"T_d6295fbe_9188_11e9_86d9_5cc9d36b9153row2_col0\" class=\"data row2 col0\" >Miopia</td>\n",
       "                        <td id=\"T_d6295fbe_9188_11e9_86d9_5cc9d36b9153row2_col1\" class=\"data row2 col1\" >3</td>\n",
       "            </tr>\n",
       "            <tr>\n",
       "                        <th id=\"T_d6295fbe_9188_11e9_86d9_5cc9d36b9153level0_row3\" class=\"row_heading level0 row3\" >3</th>\n",
       "                        <td id=\"T_d6295fbe_9188_11e9_86d9_5cc9d36b9153row3_col0\" class=\"data row3 col0\" >Anemia</td>\n",
       "                        <td id=\"T_d6295fbe_9188_11e9_86d9_5cc9d36b9153row3_col1\" class=\"data row3 col1\" >1</td>\n",
       "            </tr>\n",
       "            <tr>\n",
       "                        <th id=\"T_d6295fbe_9188_11e9_86d9_5cc9d36b9153level0_row4\" class=\"row_heading level0 row4\" >4</th>\n",
       "                        <td id=\"T_d6295fbe_9188_11e9_86d9_5cc9d36b9153row4_col0\" class=\"data row4 col0\" >Pressão alta</td>\n",
       "                        <td id=\"T_d6295fbe_9188_11e9_86d9_5cc9d36b9153row4_col1\" class=\"data row4 col1\" >3</td>\n",
       "            </tr>\n",
       "            <tr>\n",
       "                        <th id=\"T_d6295fbe_9188_11e9_86d9_5cc9d36b9153level0_row5\" class=\"row_heading level0 row5\" >5</th>\n",
       "                        <td id=\"T_d6295fbe_9188_11e9_86d9_5cc9d36b9153row5_col0\" class=\"data row5 col0\" >Febre</td>\n",
       "                        <td id=\"T_d6295fbe_9188_11e9_86d9_5cc9d36b9153row5_col1\" class=\"data row5 col1\" >3</td>\n",
       "            </tr>\n",
       "            <tr>\n",
       "                        <th id=\"T_d6295fbe_9188_11e9_86d9_5cc9d36b9153level0_row6\" class=\"row_heading level0 row6\" >6</th>\n",
       "                        <td id=\"T_d6295fbe_9188_11e9_86d9_5cc9d36b9153row6_col0\" class=\"data row6 col0\" >Epilepsia</td>\n",
       "                        <td id=\"T_d6295fbe_9188_11e9_86d9_5cc9d36b9153row6_col1\" class=\"data row6 col1\" >5</td>\n",
       "            </tr>\n",
       "            <tr>\n",
       "                        <th id=\"T_d6295fbe_9188_11e9_86d9_5cc9d36b9153level0_row7\" class=\"row_heading level0 row7\" >7</th>\n",
       "                        <td id=\"T_d6295fbe_9188_11e9_86d9_5cc9d36b9153row7_col0\" class=\"data row7 col0\" >Pneumonia</td>\n",
       "                        <td id=\"T_d6295fbe_9188_11e9_86d9_5cc9d36b9153row7_col1\" class=\"data row7 col1\" >3</td>\n",
       "            </tr>\n",
       "            <tr>\n",
       "                        <th id=\"T_d6295fbe_9188_11e9_86d9_5cc9d36b9153level0_row8\" class=\"row_heading level0 row8\" >8</th>\n",
       "                        <td id=\"T_d6295fbe_9188_11e9_86d9_5cc9d36b9153row8_col0\" class=\"data row8 col0\" >Depressão</td>\n",
       "                        <td id=\"T_d6295fbe_9188_11e9_86d9_5cc9d36b9153row8_col1\" class=\"data row8 col1\" >4</td>\n",
       "            </tr>\n",
       "            <tr>\n",
       "                        <th id=\"T_d6295fbe_9188_11e9_86d9_5cc9d36b9153level0_row9\" class=\"row_heading level0 row9\" >9</th>\n",
       "                        <td id=\"T_d6295fbe_9188_11e9_86d9_5cc9d36b9153row9_col0\" class=\"data row9 col0\" >Tumor</td>\n",
       "                        <td id=\"T_d6295fbe_9188_11e9_86d9_5cc9d36b9153row9_col1\" class=\"data row9 col1\" >5</td>\n",
       "            </tr>\n",
       "            <tr>\n",
       "                        <th id=\"T_d6295fbe_9188_11e9_86d9_5cc9d36b9153level0_row10\" class=\"row_heading level0 row10\" >10</th>\n",
       "                        <td id=\"T_d6295fbe_9188_11e9_86d9_5cc9d36b9153row10_col0\" class=\"data row10 col0\" >Conjuntivite</td>\n",
       "                        <td id=\"T_d6295fbe_9188_11e9_86d9_5cc9d36b9153row10_col1\" class=\"data row10 col1\" >4</td>\n",
       "            </tr>\n",
       "    </tbody></table>"
      ],
      "text/plain": [
       "<pandas.io.formats.style.Styler at 0x9ecedd0>"
      ]
     },
     "execution_count": 105,
     "metadata": {},
     "output_type": "execute_result"
    }
   ],
   "source": [
    "df = pd.DataFrame(relatorio1)\n",
    "cm = sns.light_palette(\"brown\", as_cmap=True)\n",
    "df.style.background_gradient(cmap=cm)\n"
   ]
  },
  {
   "cell_type": "code",
   "execution_count": 106,
   "metadata": {},
   "outputs": [
    {
     "data": {
      "text/plain": [
       "<matplotlib.axes._subplots.AxesSubplot at 0xe7d15d0>"
      ]
     },
     "execution_count": 106,
     "metadata": {},
     "output_type": "execute_result"
    },
    {
     "data": {
      "image/png": "[encoded data removed]",
      "text/plain": [
       "<Figure size 640x480 with 1 Axes>"
      ]
     },
     "metadata": {},
     "output_type": "display_data"
    }
   ],
   "source": [
    "import seaborn as sns\n",
    "sns.barplot(x=\"qtde_pessoas_no_tratamento\", y=\"Doença_tratada\",data=df,orient='h')"
   ]
  },
  {
   "cell_type": "markdown",
   "metadata": {},
   "source": [
    "#### Relatório que retorna o número de tratamentos finalizados nos hospitais, separando por tipo de tramento\n"
   ]
  },
  {
   "cell_type": "markdown",
   "metadata": {},
   "source": [
    "# Relatório 2"
   ]
  },
  {
   "cell_type": "markdown",
   "metadata": {},
   "source": [
    "#### Relatório que retorna a incidência de doenças em um determinado estado\n",
    "\n"
   ]
  },
  {
   "cell_type": "code",
   "execution_count": 129,
   "metadata": {},
   "outputs": [],
   "source": [
    "relatorio2 = pd.read_sql_query(\"\"\"\n",
    "select Estado,doenca_tratada,sum(Numero_tratamentos) as qtde_tratamentos from ( select est.estado as Estado,indisp.indisposicao \n",
    "as Doenca_tratada, count(trat.cod_indisposicao) as Numero_tratamentos from tratamento trat\n",
    "inner join paciente pac on (trat.cod_paciente = pac.cod_paciente)\n",
    "inner join endereco ende on (pac.cod_end = ende.cod_end) inner join rua on (ende.cod_rua = rua.cod_rua)\n",
    "inner join bairro on (rua.cod_bairro = bairro.cod_bairro) inner join cidade cid on (bairro.cod_cidade = cid.cod_cidade)\n",
    "inner join estado est on (cid.cod_estado = est.cod_estado) \n",
    "inner join indisposicao indisp on (trat.cod_indisposicao = indisp.cod_indisposicao)\n",
    "where est.cod_estado = 21 group by pac.cod_paciente,est.cod_estado,indisp.indisposicao) \n",
    "as relatorio_doenca_estado group by Estado,Doenca_tratada;\n",
    "                            \"\"\",conn)"
   ]
  },
  {
   "cell_type": "code",
   "execution_count": 130,
   "metadata": {},
   "outputs": [
    {
     "data": {
      "text/html": [
       "<style  type=\"text/css\" >\n",
       "    #T_96b4b3ee_918a_11e9_9adf_5cc9d36b9153row0_col2 {\n",
       "            background-color:  #e5ffe5;\n",
       "            color:  #000000;\n",
       "        }    #T_96b4b3ee_918a_11e9_9adf_5cc9d36b9153row1_col2 {\n",
       "            background-color:  #e5ffe5;\n",
       "            color:  #000000;\n",
       "        }    #T_96b4b3ee_918a_11e9_9adf_5cc9d36b9153row2_col2 {\n",
       "            background-color:  #d1f4d1;\n",
       "            color:  #000000;\n",
       "        }    #T_96b4b3ee_918a_11e9_9adf_5cc9d36b9153row3_col2 {\n",
       "            background-color:  #008000;\n",
       "            color:  #f1f1f1;\n",
       "        }    #T_96b4b3ee_918a_11e9_9adf_5cc9d36b9153row4_col2 {\n",
       "            background-color:  #e5ffe5;\n",
       "            color:  #000000;\n",
       "        }    #T_96b4b3ee_918a_11e9_9adf_5cc9d36b9153row5_col2 {\n",
       "            background-color:  #68ba68;\n",
       "            color:  #000000;\n",
       "        }    #T_96b4b3ee_918a_11e9_9adf_5cc9d36b9153row6_col2 {\n",
       "            background-color:  #68ba68;\n",
       "            color:  #000000;\n",
       "        }    #T_96b4b3ee_918a_11e9_9adf_5cc9d36b9153row7_col2 {\n",
       "            background-color:  #bce8bc;\n",
       "            color:  #000000;\n",
       "        }    #T_96b4b3ee_918a_11e9_9adf_5cc9d36b9153row8_col2 {\n",
       "            background-color:  #68ba68;\n",
       "            color:  #000000;\n",
       "        }    #T_96b4b3ee_918a_11e9_9adf_5cc9d36b9153row9_col2 {\n",
       "            background-color:  #bce8bc;\n",
       "            color:  #000000;\n",
       "        }    #T_96b4b3ee_918a_11e9_9adf_5cc9d36b9153row10_col2 {\n",
       "            background-color:  #a7dda7;\n",
       "            color:  #000000;\n",
       "        }</style><table id=\"T_96b4b3ee_918a_11e9_9adf_5cc9d36b9153\" ><thead>    <tr>        <th class=\"blank level0\" ></th>        <th class=\"col_heading level0 col0\" >estado</th>        <th class=\"col_heading level0 col1\" >doenca_tratada</th>        <th class=\"col_heading level0 col2\" >qtde_tratamentos</th>    </tr></thead><tbody>\n",
       "                <tr>\n",
       "                        <th id=\"T_96b4b3ee_918a_11e9_9adf_5cc9d36b9153level0_row0\" class=\"row_heading level0 row0\" >0</th>\n",
       "                        <td id=\"T_96b4b3ee_918a_11e9_9adf_5cc9d36b9153row0_col0\" class=\"data row0 col0\" >Espirito Santo</td>\n",
       "                        <td id=\"T_96b4b3ee_918a_11e9_9adf_5cc9d36b9153row0_col1\" class=\"data row0 col1\" >Labirintite</td>\n",
       "                        <td id=\"T_96b4b3ee_918a_11e9_9adf_5cc9d36b9153row0_col2\" class=\"data row0 col2\" >1</td>\n",
       "            </tr>\n",
       "            <tr>\n",
       "                        <th id=\"T_96b4b3ee_918a_11e9_9adf_5cc9d36b9153level0_row1\" class=\"row_heading level0 row1\" >1</th>\n",
       "                        <td id=\"T_96b4b3ee_918a_11e9_9adf_5cc9d36b9153row1_col0\" class=\"data row1 col0\" >Espirito Santo</td>\n",
       "                        <td id=\"T_96b4b3ee_918a_11e9_9adf_5cc9d36b9153row1_col1\" class=\"data row1 col1\" >Depressão</td>\n",
       "                        <td id=\"T_96b4b3ee_918a_11e9_9adf_5cc9d36b9153row1_col2\" class=\"data row1 col2\" >1</td>\n",
       "            </tr>\n",
       "            <tr>\n",
       "                        <th id=\"T_96b4b3ee_918a_11e9_9adf_5cc9d36b9153level0_row2\" class=\"row_heading level0 row2\" >2</th>\n",
       "                        <td id=\"T_96b4b3ee_918a_11e9_9adf_5cc9d36b9153row2_col0\" class=\"data row2 col0\" >Espirito Santo</td>\n",
       "                        <td id=\"T_96b4b3ee_918a_11e9_9adf_5cc9d36b9153row2_col1\" class=\"data row2 col1\" >Insônia</td>\n",
       "                        <td id=\"T_96b4b3ee_918a_11e9_9adf_5cc9d36b9153row2_col2\" class=\"data row2 col2\" >2</td>\n",
       "            </tr>\n",
       "            <tr>\n",
       "                        <th id=\"T_96b4b3ee_918a_11e9_9adf_5cc9d36b9153level0_row3\" class=\"row_heading level0 row3\" >3</th>\n",
       "                        <td id=\"T_96b4b3ee_918a_11e9_9adf_5cc9d36b9153row3_col0\" class=\"data row3 col0\" >Espirito Santo</td>\n",
       "                        <td id=\"T_96b4b3ee_918a_11e9_9adf_5cc9d36b9153row3_col1\" class=\"data row3 col1\" >Dengue</td>\n",
       "                        <td id=\"T_96b4b3ee_918a_11e9_9adf_5cc9d36b9153row3_col2\" class=\"data row3 col2\" >12</td>\n",
       "            </tr>\n",
       "            <tr>\n",
       "                        <th id=\"T_96b4b3ee_918a_11e9_9adf_5cc9d36b9153level0_row4\" class=\"row_heading level0 row4\" >4</th>\n",
       "                        <td id=\"T_96b4b3ee_918a_11e9_9adf_5cc9d36b9153row4_col0\" class=\"data row4 col0\" >Espirito Santo</td>\n",
       "                        <td id=\"T_96b4b3ee_918a_11e9_9adf_5cc9d36b9153row4_col1\" class=\"data row4 col1\" >Epilepsia</td>\n",
       "                        <td id=\"T_96b4b3ee_918a_11e9_9adf_5cc9d36b9153row4_col2\" class=\"data row4 col2\" >1</td>\n",
       "            </tr>\n",
       "            <tr>\n",
       "                        <th id=\"T_96b4b3ee_918a_11e9_9adf_5cc9d36b9153level0_row5\" class=\"row_heading level0 row5\" >5</th>\n",
       "                        <td id=\"T_96b4b3ee_918a_11e9_9adf_5cc9d36b9153row5_col0\" class=\"data row5 col0\" >Espirito Santo</td>\n",
       "                        <td id=\"T_96b4b3ee_918a_11e9_9adf_5cc9d36b9153row5_col1\" class=\"data row5 col1\" >Pneumonia</td>\n",
       "                        <td id=\"T_96b4b3ee_918a_11e9_9adf_5cc9d36b9153row5_col2\" class=\"data row5 col2\" >7</td>\n",
       "            </tr>\n",
       "            <tr>\n",
       "                        <th id=\"T_96b4b3ee_918a_11e9_9adf_5cc9d36b9153level0_row6\" class=\"row_heading level0 row6\" >6</th>\n",
       "                        <td id=\"T_96b4b3ee_918a_11e9_9adf_5cc9d36b9153row6_col0\" class=\"data row6 col0\" >Espirito Santo</td>\n",
       "                        <td id=\"T_96b4b3ee_918a_11e9_9adf_5cc9d36b9153row6_col1\" class=\"data row6 col1\" >Catarata</td>\n",
       "                        <td id=\"T_96b4b3ee_918a_11e9_9adf_5cc9d36b9153row6_col2\" class=\"data row6 col2\" >7</td>\n",
       "            </tr>\n",
       "            <tr>\n",
       "                        <th id=\"T_96b4b3ee_918a_11e9_9adf_5cc9d36b9153level0_row7\" class=\"row_heading level0 row7\" >7</th>\n",
       "                        <td id=\"T_96b4b3ee_918a_11e9_9adf_5cc9d36b9153row7_col0\" class=\"data row7 col0\" >Espirito Santo</td>\n",
       "                        <td id=\"T_96b4b3ee_918a_11e9_9adf_5cc9d36b9153row7_col1\" class=\"data row7 col1\" >Gripe</td>\n",
       "                        <td id=\"T_96b4b3ee_918a_11e9_9adf_5cc9d36b9153row7_col2\" class=\"data row7 col2\" >3</td>\n",
       "            </tr>\n",
       "            <tr>\n",
       "                        <th id=\"T_96b4b3ee_918a_11e9_9adf_5cc9d36b9153level0_row8\" class=\"row_heading level0 row8\" >8</th>\n",
       "                        <td id=\"T_96b4b3ee_918a_11e9_9adf_5cc9d36b9153row8_col0\" class=\"data row8 col0\" >Espirito Santo</td>\n",
       "                        <td id=\"T_96b4b3ee_918a_11e9_9adf_5cc9d36b9153row8_col1\" class=\"data row8 col1\" >Conjuntivite</td>\n",
       "                        <td id=\"T_96b4b3ee_918a_11e9_9adf_5cc9d36b9153row8_col2\" class=\"data row8 col2\" >7</td>\n",
       "            </tr>\n",
       "            <tr>\n",
       "                        <th id=\"T_96b4b3ee_918a_11e9_9adf_5cc9d36b9153level0_row9\" class=\"row_heading level0 row9\" >9</th>\n",
       "                        <td id=\"T_96b4b3ee_918a_11e9_9adf_5cc9d36b9153row9_col0\" class=\"data row9 col0\" >Espirito Santo</td>\n",
       "                        <td id=\"T_96b4b3ee_918a_11e9_9adf_5cc9d36b9153row9_col1\" class=\"data row9 col1\" >Miopia</td>\n",
       "                        <td id=\"T_96b4b3ee_918a_11e9_9adf_5cc9d36b9153row9_col2\" class=\"data row9 col2\" >3</td>\n",
       "            </tr>\n",
       "            <tr>\n",
       "                        <th id=\"T_96b4b3ee_918a_11e9_9adf_5cc9d36b9153level0_row10\" class=\"row_heading level0 row10\" >10</th>\n",
       "                        <td id=\"T_96b4b3ee_918a_11e9_9adf_5cc9d36b9153row10_col0\" class=\"data row10 col0\" >Espirito Santo</td>\n",
       "                        <td id=\"T_96b4b3ee_918a_11e9_9adf_5cc9d36b9153row10_col1\" class=\"data row10 col1\" >Hepatite C</td>\n",
       "                        <td id=\"T_96b4b3ee_918a_11e9_9adf_5cc9d36b9153row10_col2\" class=\"data row10 col2\" >4</td>\n",
       "            </tr>\n",
       "    </tbody></table>"
      ],
      "text/plain": [
       "<pandas.io.formats.style.Styler at 0xea9b8d0>"
      ]
     },
     "execution_count": 130,
     "metadata": {},
     "output_type": "execute_result"
    }
   ],
   "source": [
    "df = pd.DataFrame(relatorio2)\n",
    "cm = sns.light_palette(\"green\", as_cmap=True)\n",
    "df.style.background_gradient(cmap=cm)"
   ]
  },
  {
   "cell_type": "code",
   "execution_count": 135,
   "metadata": {},
   "outputs": [
    {
     "data": {
      "text/plain": [
       "<matplotlib.axes._subplots.AxesSubplot at 0xe1def10>"
      ]
     },
     "execution_count": 135,
     "metadata": {},
     "output_type": "execute_result"
    },
    {
     "data": {
      "image/png": "[encoded data removed]",
      "text/plain": [
       "<Figure size 640x480 with 1 Axes>"
      ]
     },
     "metadata": {},
     "output_type": "display_data"
    }
   ],
   "source": [
    "import seaborn as sns\n",
    "sns.barplot(x=\"qtde_tratamentos\", y=\"doenca_tratada\",data=df,orient='h')"
   ]
  },
  {
   "cell_type": "markdown",
   "metadata": {},
   "source": [
    "# Relatório 3"
   ]
  },
  {
   "cell_type": "markdown",
   "metadata": {},
   "source": [
    "#### Relatório usado para verificar o número de tratamentos que foram realizados/finalizados em cada hospital, independente do tipo de tratamento\n"
   ]
  },
  {
   "cell_type": "code",
   "execution_count": 89,
   "metadata": {},
   "outputs": [],
   "source": [
    "relatorio3 = pd.read_sql_query(\"\"\"\n",
    "select hosp.hospital as hospital,count(trat.cod_hospital) as \n",
    "quantidade_de_tratamentos_realizado_pelo_hospital from tratamento trat\n",
    "inner join hospital hosp on (trat.cod_hospital = hosp.cod_hospital) \n",
    "where fim_trat is not null group by hosp.cod_hospital;\n",
    "                            \"\"\",conn)"
   ]
  },
  {
   "cell_type": "code",
   "execution_count": 90,
   "metadata": {},
   "outputs": [
    {
     "data": {
      "text/html": [
       "<style  type=\"text/css\" >\n",
       "    #T_59664234_917c_11e9_9e2d_5cc9d36b9153row0_col1 {\n",
       "            background-color:  #e5ffe5;\n",
       "            color:  #000000;\n",
       "        }    #T_59664234_917c_11e9_9e2d_5cc9d36b9153row1_col1 {\n",
       "            background-color:  #4daa4d;\n",
       "            color:  #000000;\n",
       "        }    #T_59664234_917c_11e9_9e2d_5cc9d36b9153row2_col1 {\n",
       "            background-color:  #99d599;\n",
       "            color:  #000000;\n",
       "        }    #T_59664234_917c_11e9_9e2d_5cc9d36b9153row3_col1 {\n",
       "            background-color:  #99d599;\n",
       "            color:  #000000;\n",
       "        }    #T_59664234_917c_11e9_9e2d_5cc9d36b9153row4_col1 {\n",
       "            background-color:  #99d599;\n",
       "            color:  #000000;\n",
       "        }    #T_59664234_917c_11e9_9e2d_5cc9d36b9153row5_col1 {\n",
       "            background-color:  #e5ffe5;\n",
       "            color:  #000000;\n",
       "        }    #T_59664234_917c_11e9_9e2d_5cc9d36b9153row6_col1 {\n",
       "            background-color:  #008000;\n",
       "            color:  #f1f1f1;\n",
       "        }    #T_59664234_917c_11e9_9e2d_5cc9d36b9153row7_col1 {\n",
       "            background-color:  #e5ffe5;\n",
       "            color:  #000000;\n",
       "        }    #T_59664234_917c_11e9_9e2d_5cc9d36b9153row8_col1 {\n",
       "            background-color:  #e5ffe5;\n",
       "            color:  #000000;\n",
       "        }    #T_59664234_917c_11e9_9e2d_5cc9d36b9153row9_col1 {\n",
       "            background-color:  #e5ffe5;\n",
       "            color:  #000000;\n",
       "        }    #T_59664234_917c_11e9_9e2d_5cc9d36b9153row10_col1 {\n",
       "            background-color:  #e5ffe5;\n",
       "            color:  #000000;\n",
       "        }</style><table id=\"T_59664234_917c_11e9_9e2d_5cc9d36b9153\" ><thead>    <tr>        <th class=\"blank level0\" ></th>        <th class=\"col_heading level0 col0\" >hospital</th>        <th class=\"col_heading level0 col1\" >quantidade_de_tratamentos_realizado_pelo_hospital</th>    </tr></thead><tbody>\n",
       "                <tr>\n",
       "                        <th id=\"T_59664234_917c_11e9_9e2d_5cc9d36b9153level0_row0\" class=\"row_heading level0 row0\" >0</th>\n",
       "                        <td id=\"T_59664234_917c_11e9_9e2d_5cc9d36b9153row0_col0\" class=\"data row0 col0\" >Hospital Paineiras</td>\n",
       "                        <td id=\"T_59664234_917c_11e9_9e2d_5cc9d36b9153row0_col1\" class=\"data row0 col1\" >1</td>\n",
       "            </tr>\n",
       "            <tr>\n",
       "                        <th id=\"T_59664234_917c_11e9_9e2d_5cc9d36b9153level0_row1\" class=\"row_heading level0 row1\" >1</th>\n",
       "                        <td id=\"T_59664234_917c_11e9_9e2d_5cc9d36b9153row1_col0\" class=\"data row1 col0\" >Hospital São Lucas Copacabana</td>\n",
       "                        <td id=\"T_59664234_917c_11e9_9e2d_5cc9d36b9153row1_col1\" class=\"data row1 col1\" >3</td>\n",
       "            </tr>\n",
       "            <tr>\n",
       "                        <th id=\"T_59664234_917c_11e9_9e2d_5cc9d36b9153level0_row2\" class=\"row_heading level0 row2\" >2</th>\n",
       "                        <td id=\"T_59664234_917c_11e9_9e2d_5cc9d36b9153row2_col0\" class=\"data row2 col0\" >Hospital São Camilo</td>\n",
       "                        <td id=\"T_59664234_917c_11e9_9e2d_5cc9d36b9153row2_col1\" class=\"data row2 col1\" >2</td>\n",
       "            </tr>\n",
       "            <tr>\n",
       "                        <th id=\"T_59664234_917c_11e9_9e2d_5cc9d36b9153level0_row3\" class=\"row_heading level0 row3\" >3</th>\n",
       "                        <td id=\"T_59664234_917c_11e9_9e2d_5cc9d36b9153row3_col0\" class=\"data row3 col0\" >Hospital sao lucas</td>\n",
       "                        <td id=\"T_59664234_917c_11e9_9e2d_5cc9d36b9153row3_col1\" class=\"data row3 col1\" >2</td>\n",
       "            </tr>\n",
       "            <tr>\n",
       "                        <th id=\"T_59664234_917c_11e9_9e2d_5cc9d36b9153level0_row4\" class=\"row_heading level0 row4\" >4</th>\n",
       "                        <td id=\"T_59664234_917c_11e9_9e2d_5cc9d36b9153row4_col0\" class=\"data row4 col0\" >Hospital Vitória Apart</td>\n",
       "                        <td id=\"T_59664234_917c_11e9_9e2d_5cc9d36b9153row4_col1\" class=\"data row4 col1\" >2</td>\n",
       "            </tr>\n",
       "            <tr>\n",
       "                        <th id=\"T_59664234_917c_11e9_9e2d_5cc9d36b9153level0_row5\" class=\"row_heading level0 row5\" >5</th>\n",
       "                        <td id=\"T_59664234_917c_11e9_9e2d_5cc9d36b9153row5_col0\" class=\"data row5 col0\" >Hospital Santa Rosália</td>\n",
       "                        <td id=\"T_59664234_917c_11e9_9e2d_5cc9d36b9153row5_col1\" class=\"data row5 col1\" >1</td>\n",
       "            </tr>\n",
       "            <tr>\n",
       "                        <th id=\"T_59664234_917c_11e9_9e2d_5cc9d36b9153level0_row6\" class=\"row_heading level0 row6\" >6</th>\n",
       "                        <td id=\"T_59664234_917c_11e9_9e2d_5cc9d36b9153row6_col0\" class=\"data row6 col0\" >Hospital Israelita Albert Einstein</td>\n",
       "                        <td id=\"T_59664234_917c_11e9_9e2d_5cc9d36b9153row6_col1\" class=\"data row6 col1\" >4</td>\n",
       "            </tr>\n",
       "            <tr>\n",
       "                        <th id=\"T_59664234_917c_11e9_9e2d_5cc9d36b9153level0_row7\" class=\"row_heading level0 row7\" >7</th>\n",
       "                        <td id=\"T_59664234_917c_11e9_9e2d_5cc9d36b9153row7_col0\" class=\"data row7 col0\" >Hospital São Domingos</td>\n",
       "                        <td id=\"T_59664234_917c_11e9_9e2d_5cc9d36b9153row7_col1\" class=\"data row7 col1\" >1</td>\n",
       "            </tr>\n",
       "            <tr>\n",
       "                        <th id=\"T_59664234_917c_11e9_9e2d_5cc9d36b9153level0_row8\" class=\"row_heading level0 row8\" >8</th>\n",
       "                        <td id=\"T_59664234_917c_11e9_9e2d_5cc9d36b9153row8_col0\" class=\"data row8 col0\" >Clínica Viver Bem</td>\n",
       "                        <td id=\"T_59664234_917c_11e9_9e2d_5cc9d36b9153row8_col1\" class=\"data row8 col1\" >1</td>\n",
       "            </tr>\n",
       "            <tr>\n",
       "                        <th id=\"T_59664234_917c_11e9_9e2d_5cc9d36b9153level0_row9\" class=\"row_heading level0 row9\" >9</th>\n",
       "                        <td id=\"T_59664234_917c_11e9_9e2d_5cc9d36b9153row9_col0\" class=\"data row9 col0\" >Hospital Santa Cruz</td>\n",
       "                        <td id=\"T_59664234_917c_11e9_9e2d_5cc9d36b9153row9_col1\" class=\"data row9 col1\" >1</td>\n",
       "            </tr>\n",
       "            <tr>\n",
       "                        <th id=\"T_59664234_917c_11e9_9e2d_5cc9d36b9153level0_row10\" class=\"row_heading level0 row10\" >10</th>\n",
       "                        <td id=\"T_59664234_917c_11e9_9e2d_5cc9d36b9153row10_col0\" class=\"data row10 col0\" >Hospital Regional Dantas Biao</td>\n",
       "                        <td id=\"T_59664234_917c_11e9_9e2d_5cc9d36b9153row10_col1\" class=\"data row10 col1\" >1</td>\n",
       "            </tr>\n",
       "    </tbody></table>"
      ],
      "text/plain": [
       "<pandas.io.formats.style.Styler at 0x9e9a970>"
      ]
     },
     "execution_count": 90,
     "metadata": {},
     "output_type": "execute_result"
    }
   ],
   "source": [
    "df = pd.DataFrame(relatorio3)\n",
    "cm = sns.light_palette(\"green\", as_cmap=True)\n",
    "df.style.background_gradient(cmap=cm)\n"
   ]
  },
  {
   "cell_type": "code",
   "execution_count": 91,
   "metadata": {},
   "outputs": [
    {
     "data": {
      "text/plain": [
       "<matplotlib.axes._subplots.AxesSubplot at 0x9ea6530>"
      ]
     },
     "execution_count": 91,
     "metadata": {},
     "output_type": "execute_result"
    },
    {
     "data": {
      "image/png": "[encoded data removed]",
      "text/plain": [
       "<Figure size 640x480 with 1 Axes>"
      ]
     },
     "metadata": {},
     "output_type": "display_data"
    }
   ],
   "source": [
    "import seaborn as sns\n",
    "sns.barplot(x=\"quantidade_de_tratamentos_realizado_pelo_hospital\", y=\"hospital\",data=df,orient='h')"
   ]
  },
  {
   "cell_type": "markdown",
   "metadata": {},
   "source": [
    "# Relatório 4"
   ]
  },
  {
   "cell_type": "markdown",
   "metadata": {},
   "source": [
    "#### Relatório contendo a média de duração dos tratamentos "
   ]
  },
  {
   "cell_type": "code",
   "execution_count": 92,
   "metadata": {},
   "outputs": [],
   "source": [
    "relatorio4 = pd.read_sql_query(\"\"\"\n",
    "select \"Tratamento\",avg(\"Duração do tratamento\") as Media_de_duração from (select pac.nome_paciente,indisp.indisposicao as \n",
    "\"Tratamento\", trat.ini_trat,trat.fim_trat, age(fim_trat,ini_trat) as \"Duração do tratamento\" \n",
    "from tratamento trat inner join paciente pac on (pac.cod_paciente = trat.cod_paciente)\n",
    "inner join indisposicao indisp on (trat.cod_indisposicao = indisp.cod_indisposicao) \n",
    "where fim_trat is not null) as teste\n",
    "group by \"Tratamento\"\n",
    "                            \"\"\",conn)"
   ]
  },
  {
   "cell_type": "code",
   "execution_count": 93,
   "metadata": {},
   "outputs": [
    {
     "data": {
      "text/html": [
       "<div>\n",
       "<style scoped>\n",
       "    .dataframe tbody tr th:only-of-type {\n",
       "        vertical-align: middle;\n",
       "    }\n",
       "\n",
       "    .dataframe tbody tr th {\n",
       "        vertical-align: top;\n",
       "    }\n",
       "\n",
       "    .dataframe thead th {\n",
       "        text-align: right;\n",
       "    }\n",
       "</style>\n",
       "<table border=\"1\" class=\"dataframe\">\n",
       "  <thead>\n",
       "    <tr style=\"text-align: right;\">\n",
       "      <th></th>\n",
       "      <th>Tratamento</th>\n",
       "      <th>media_de_duração</th>\n",
       "    </tr>\n",
       "  </thead>\n",
       "  <tbody>\n",
       "    <tr>\n",
       "      <th>0</th>\n",
       "      <td>Asma</td>\n",
       "      <td>30 days 00:00:00</td>\n",
       "    </tr>\n",
       "    <tr>\n",
       "      <th>1</th>\n",
       "      <td>Dengue</td>\n",
       "      <td>72 days 12:00:00</td>\n",
       "    </tr>\n",
       "    <tr>\n",
       "      <th>2</th>\n",
       "      <td>Febre</td>\n",
       "      <td>5 days 00:00:00</td>\n",
       "    </tr>\n",
       "    <tr>\n",
       "      <th>3</th>\n",
       "      <td>Pneumonia</td>\n",
       "      <td>26 days 12:00:00</td>\n",
       "    </tr>\n",
       "    <tr>\n",
       "      <th>4</th>\n",
       "      <td>Conjuntivite</td>\n",
       "      <td>7 days 00:00:00</td>\n",
       "    </tr>\n",
       "    <tr>\n",
       "      <th>5</th>\n",
       "      <td>Sinusite</td>\n",
       "      <td>12 days 00:00:00</td>\n",
       "    </tr>\n",
       "    <tr>\n",
       "      <th>6</th>\n",
       "      <td>Gastroenterite</td>\n",
       "      <td>5 days 00:00:00</td>\n",
       "    </tr>\n",
       "    <tr>\n",
       "      <th>7</th>\n",
       "      <td>Calculo Renal</td>\n",
       "      <td>10 days 00:00:00</td>\n",
       "    </tr>\n",
       "    <tr>\n",
       "      <th>8</th>\n",
       "      <td>Labirintite</td>\n",
       "      <td>21 days 08:00:00</td>\n",
       "    </tr>\n",
       "    <tr>\n",
       "      <th>9</th>\n",
       "      <td>Hepatite C</td>\n",
       "      <td>13 days 00:00:00</td>\n",
       "    </tr>\n",
       "    <tr>\n",
       "      <th>10</th>\n",
       "      <td>Catarata</td>\n",
       "      <td>19 days 00:00:00</td>\n",
       "    </tr>\n",
       "    <tr>\n",
       "      <th>11</th>\n",
       "      <td>Gripe</td>\n",
       "      <td>15 days 08:00:00</td>\n",
       "    </tr>\n",
       "  </tbody>\n",
       "</table>\n",
       "</div>"
      ],
      "text/plain": [
       "        Tratamento media_de_duração\n",
       "0             Asma 30 days 00:00:00\n",
       "1           Dengue 72 days 12:00:00\n",
       "2            Febre  5 days 00:00:00\n",
       "3        Pneumonia 26 days 12:00:00\n",
       "4     Conjuntivite  7 days 00:00:00\n",
       "5         Sinusite 12 days 00:00:00\n",
       "6   Gastroenterite  5 days 00:00:00\n",
       "7    Calculo Renal 10 days 00:00:00\n",
       "8      Labirintite 21 days 08:00:00\n",
       "9       Hepatite C 13 days 00:00:00\n",
       "10        Catarata 19 days 00:00:00\n",
       "11           Gripe 15 days 08:00:00"
      ]
     },
     "execution_count": 93,
     "metadata": {},
     "output_type": "execute_result"
    }
   ],
   "source": [
    "\n",
    "relatorio4"
   ]
  },
  {
   "cell_type": "markdown",
   "metadata": {},
   "source": [
    "# Relatório 5"
   ]
  },
  {
   "cell_type": "markdown",
   "metadata": {},
   "source": [
    "#### Relatório contendo a relação do número de pessoas em cada tratamento com o número total de medicamentos em cada tratamento"
   ]
  },
  {
   "cell_type": "code",
   "execution_count": 94,
   "metadata": {},
   "outputs": [],
   "source": [
    "pacientes_tratamento = pd.read_sql_query(\"\"\"\n",
    "select pac.cod_paciente as \"Código paciente\", pac.nome_paciente from tratamento trat\n",
    "inner join paciente pac on (trat.cod_paciente = pac.cod_paciente) group by pac.cod_paciente;\n",
    "                            \"\"\",conn)"
   ]
  },
  {
   "cell_type": "markdown",
   "metadata": {},
   "source": [
    "Para usar o relatório 5 é preciso informar o código do paciente para ver quais doenças ele está tratando ou tratou e quantos medicamentos usou em cada um. Por isso a tabela abaixo é para auxiliar na procura pelo código do paciente."
   ]
  },
  {
   "cell_type": "code",
   "execution_count": 95,
   "metadata": {},
   "outputs": [
    {
     "data": {
      "text/html": [
       "<div>\n",
       "<style scoped>\n",
       "    .dataframe tbody tr th:only-of-type {\n",
       "        vertical-align: middle;\n",
       "    }\n",
       "\n",
       "    .dataframe tbody tr th {\n",
       "        vertical-align: top;\n",
       "    }\n",
       "\n",
       "    .dataframe thead th {\n",
       "        text-align: right;\n",
       "    }\n",
       "</style>\n",
       "<table border=\"1\" class=\"dataframe\">\n",
       "  <thead>\n",
       "    <tr style=\"text-align: right;\">\n",
       "      <th></th>\n",
       "      <th>Código paciente</th>\n",
       "      <th>nome_paciente</th>\n",
       "    </tr>\n",
       "  </thead>\n",
       "  <tbody>\n",
       "    <tr>\n",
       "      <th>0</th>\n",
       "      <td>8</td>\n",
       "      <td>Clarice Pereira Silva</td>\n",
       "    </tr>\n",
       "    <tr>\n",
       "      <th>1</th>\n",
       "      <td>10</td>\n",
       "      <td>Thiago Correia Neves</td>\n",
       "    </tr>\n",
       "    <tr>\n",
       "      <th>2</th>\n",
       "      <td>9</td>\n",
       "      <td>Joana Medeiros</td>\n",
       "    </tr>\n",
       "    <tr>\n",
       "      <th>3</th>\n",
       "      <td>7</td>\n",
       "      <td>Davi Santos</td>\n",
       "    </tr>\n",
       "    <tr>\n",
       "      <th>4</th>\n",
       "      <td>1</td>\n",
       "      <td>José Alves</td>\n",
       "    </tr>\n",
       "    <tr>\n",
       "      <th>5</th>\n",
       "      <td>5</td>\n",
       "      <td>Ana Kruger Santos</td>\n",
       "    </tr>\n",
       "    <tr>\n",
       "      <th>6</th>\n",
       "      <td>4</td>\n",
       "      <td>João Pedro</td>\n",
       "    </tr>\n",
       "    <tr>\n",
       "      <th>7</th>\n",
       "      <td>2</td>\n",
       "      <td>Maria Souza</td>\n",
       "    </tr>\n",
       "    <tr>\n",
       "      <th>8</th>\n",
       "      <td>6</td>\n",
       "      <td>Miguel Pereira</td>\n",
       "    </tr>\n",
       "    <tr>\n",
       "      <th>9</th>\n",
       "      <td>3</td>\n",
       "      <td>Pedro Santos</td>\n",
       "    </tr>\n",
       "  </tbody>\n",
       "</table>\n",
       "</div>"
      ],
      "text/plain": [
       "   Código paciente          nome_paciente\n",
       "0                8  Clarice Pereira Silva\n",
       "1               10   Thiago Correia Neves\n",
       "2                9         Joana Medeiros\n",
       "3                7            Davi Santos\n",
       "4                1             José Alves\n",
       "5                5      Ana Kruger Santos\n",
       "6                4             João Pedro\n",
       "7                2            Maria Souza\n",
       "8                6         Miguel Pereira\n",
       "9                3           Pedro Santos"
      ]
     },
     "execution_count": 95,
     "metadata": {},
     "output_type": "execute_result"
    }
   ],
   "source": [
    "pacientes_tratamento"
   ]
  },
  {
   "cell_type": "code",
   "execution_count": 96,
   "metadata": {},
   "outputs": [],
   "source": [
    "relatorio5 = pd.read_sql_query(\"\"\"\n",
    "select pac.nome_paciente,indisp.indisposicao as tratamento,\n",
    "count(med.cod_tratamento) as qtde_medicamento,\n",
    "trat.ini_trat as \"Inicio do tratamento\",trat.fim_trat as \"Fim do tratamento\",\n",
    "medico.nome_medico as \"Médico responsável\",hosp.hospital from tratamento trat\n",
    "inner join medico on (trat.cod_medico = medico.cod_medico)\n",
    "inner join paciente pac on (trat.cod_paciente = pac.cod_paciente) \n",
    "inner join indisposicao indisp on (trat.cod_indisposicao = indisp.cod_indisposicao)\n",
    "inner join medicamento med on (trat.cod_tratamento = med.cod_tratamento)\n",
    "inner join hospital hosp on (trat.cod_hospital = hosp.cod_hospital)\n",
    "where trat.cod_paciente = 1\n",
    "group by pac.nome_paciente,trat.cod_tratamento,medico.cod_medico,hosp.cod_hospital,med.cod_tratamento,indisp.cod_indisposicao;\n",
    "                            \"\"\",conn)"
   ]
  },
  {
   "cell_type": "code",
   "execution_count": 104,
   "metadata": {},
   "outputs": [
    {
     "data": {
      "text/html": [
       "<style  type=\"text/css\" >\n",
       "    #T_f0e8d552_9183_11e9_b36f_5cc9d36b9153row0_col2 {\n",
       "            background-color:  #ffe5ff;\n",
       "            color:  #000000;\n",
       "        }    #T_f0e8d552_9183_11e9_b36f_5cc9d36b9153row1_col2 {\n",
       "            background-color:  #d599d5;\n",
       "            color:  #000000;\n",
       "        }    #T_f0e8d552_9183_11e9_b36f_5cc9d36b9153row2_col2 {\n",
       "            background-color:  #800080;\n",
       "            color:  #f1f1f1;\n",
       "        }    #T_f0e8d552_9183_11e9_b36f_5cc9d36b9153row3_col2 {\n",
       "            background-color:  #aa4daa;\n",
       "            color:  #f1f1f1;\n",
       "        }    #T_f0e8d552_9183_11e9_b36f_5cc9d36b9153row4_col2 {\n",
       "            background-color:  #aa4daa;\n",
       "            color:  #f1f1f1;\n",
       "        }</style><table id=\"T_f0e8d552_9183_11e9_b36f_5cc9d36b9153\" ><thead>    <tr>        <th class=\"blank level0\" ></th>        <th class=\"col_heading level0 col0\" >nome_paciente</th>        <th class=\"col_heading level0 col1\" >tratamento</th>        <th class=\"col_heading level0 col2\" >qtde_medicamento</th>        <th class=\"col_heading level0 col3\" >Inicio do tratamento</th>        <th class=\"col_heading level0 col4\" >Fim do tratamento</th>        <th class=\"col_heading level0 col5\" >Médico responsável</th>        <th class=\"col_heading level0 col6\" >hospital</th>    </tr></thead><tbody>\n",
       "                <tr>\n",
       "                        <th id=\"T_f0e8d552_9183_11e9_b36f_5cc9d36b9153level0_row0\" class=\"row_heading level0 row0\" >0</th>\n",
       "                        <td id=\"T_f0e8d552_9183_11e9_b36f_5cc9d36b9153row0_col0\" class=\"data row0 col0\" >José Alves</td>\n",
       "                        <td id=\"T_f0e8d552_9183_11e9_b36f_5cc9d36b9153row0_col1\" class=\"data row0 col1\" >Gripe</td>\n",
       "                        <td id=\"T_f0e8d552_9183_11e9_b36f_5cc9d36b9153row0_col2\" class=\"data row0 col2\" >1</td>\n",
       "                        <td id=\"T_f0e8d552_9183_11e9_b36f_5cc9d36b9153row0_col3\" class=\"data row0 col3\" >2017-11-15</td>\n",
       "                        <td id=\"T_f0e8d552_9183_11e9_b36f_5cc9d36b9153row0_col4\" class=\"data row0 col4\" >2017-11-20</td>\n",
       "                        <td id=\"T_f0e8d552_9183_11e9_b36f_5cc9d36b9153row0_col5\" class=\"data row0 col5\" >Carlos Martins</td>\n",
       "                        <td id=\"T_f0e8d552_9183_11e9_b36f_5cc9d36b9153row0_col6\" class=\"data row0 col6\" >Hospital sao lucas</td>\n",
       "            </tr>\n",
       "            <tr>\n",
       "                        <th id=\"T_f0e8d552_9183_11e9_b36f_5cc9d36b9153level0_row1\" class=\"row_heading level0 row1\" >1</th>\n",
       "                        <td id=\"T_f0e8d552_9183_11e9_b36f_5cc9d36b9153row1_col0\" class=\"data row1 col0\" >José Alves</td>\n",
       "                        <td id=\"T_f0e8d552_9183_11e9_b36f_5cc9d36b9153row1_col1\" class=\"data row1 col1\" >Dengue</td>\n",
       "                        <td id=\"T_f0e8d552_9183_11e9_b36f_5cc9d36b9153row1_col2\" class=\"data row1 col2\" >2</td>\n",
       "                        <td id=\"T_f0e8d552_9183_11e9_b36f_5cc9d36b9153row1_col3\" class=\"data row1 col3\" >2018-05-21</td>\n",
       "                        <td id=\"T_f0e8d552_9183_11e9_b36f_5cc9d36b9153row1_col4\" class=\"data row1 col4\" >2018-08-30</td>\n",
       "                        <td id=\"T_f0e8d552_9183_11e9_b36f_5cc9d36b9153row1_col5\" class=\"data row1 col5\" >Carlos Martins</td>\n",
       "                        <td id=\"T_f0e8d552_9183_11e9_b36f_5cc9d36b9153row1_col6\" class=\"data row1 col6\" >Hospital sao lucas</td>\n",
       "            </tr>\n",
       "            <tr>\n",
       "                        <th id=\"T_f0e8d552_9183_11e9_b36f_5cc9d36b9153level0_row2\" class=\"row_heading level0 row2\" >2</th>\n",
       "                        <td id=\"T_f0e8d552_9183_11e9_b36f_5cc9d36b9153row2_col0\" class=\"data row2 col0\" >José Alves</td>\n",
       "                        <td id=\"T_f0e8d552_9183_11e9_b36f_5cc9d36b9153row2_col1\" class=\"data row2 col1\" >Pneumonia</td>\n",
       "                        <td id=\"T_f0e8d552_9183_11e9_b36f_5cc9d36b9153row2_col2\" class=\"data row2 col2\" >4</td>\n",
       "                        <td id=\"T_f0e8d552_9183_11e9_b36f_5cc9d36b9153row2_col3\" class=\"data row2 col3\" >2019-05-01</td>\n",
       "                        <td id=\"T_f0e8d552_9183_11e9_b36f_5cc9d36b9153row2_col4\" class=\"data row2 col4\" >None</td>\n",
       "                        <td id=\"T_f0e8d552_9183_11e9_b36f_5cc9d36b9153row2_col5\" class=\"data row2 col5\" >Sabrina Fantin</td>\n",
       "                        <td id=\"T_f0e8d552_9183_11e9_b36f_5cc9d36b9153row2_col6\" class=\"data row2 col6\" >Hospital Vitória Apart</td>\n",
       "            </tr>\n",
       "            <tr>\n",
       "                        <th id=\"T_f0e8d552_9183_11e9_b36f_5cc9d36b9153level0_row3\" class=\"row_heading level0 row3\" >3</th>\n",
       "                        <td id=\"T_f0e8d552_9183_11e9_b36f_5cc9d36b9153row3_col0\" class=\"data row3 col0\" >José Alves</td>\n",
       "                        <td id=\"T_f0e8d552_9183_11e9_b36f_5cc9d36b9153row3_col1\" class=\"data row3 col1\" >Hepatite C</td>\n",
       "                        <td id=\"T_f0e8d552_9183_11e9_b36f_5cc9d36b9153row3_col2\" class=\"data row3 col2\" >3</td>\n",
       "                        <td id=\"T_f0e8d552_9183_11e9_b36f_5cc9d36b9153row3_col3\" class=\"data row3 col3\" >2019-05-20</td>\n",
       "                        <td id=\"T_f0e8d552_9183_11e9_b36f_5cc9d36b9153row3_col4\" class=\"data row3 col4\" >2019-06-02</td>\n",
       "                        <td id=\"T_f0e8d552_9183_11e9_b36f_5cc9d36b9153row3_col5\" class=\"data row3 col5\" >Sabrina Fantin</td>\n",
       "                        <td id=\"T_f0e8d552_9183_11e9_b36f_5cc9d36b9153row3_col6\" class=\"data row3 col6\" >Hospital Vitória Apart</td>\n",
       "            </tr>\n",
       "            <tr>\n",
       "                        <th id=\"T_f0e8d552_9183_11e9_b36f_5cc9d36b9153level0_row4\" class=\"row_heading level0 row4\" >4</th>\n",
       "                        <td id=\"T_f0e8d552_9183_11e9_b36f_5cc9d36b9153row4_col0\" class=\"data row4 col0\" >José Alves</td>\n",
       "                        <td id=\"T_f0e8d552_9183_11e9_b36f_5cc9d36b9153row4_col1\" class=\"data row4 col1\" >Catarata</td>\n",
       "                        <td id=\"T_f0e8d552_9183_11e9_b36f_5cc9d36b9153row4_col2\" class=\"data row4 col2\" >3</td>\n",
       "                        <td id=\"T_f0e8d552_9183_11e9_b36f_5cc9d36b9153row4_col3\" class=\"data row4 col3\" >2019-06-01</td>\n",
       "                        <td id=\"T_f0e8d552_9183_11e9_b36f_5cc9d36b9153row4_col4\" class=\"data row4 col4\" >None</td>\n",
       "                        <td id=\"T_f0e8d552_9183_11e9_b36f_5cc9d36b9153row4_col5\" class=\"data row4 col5\" >Sabrina Fantin</td>\n",
       "                        <td id=\"T_f0e8d552_9183_11e9_b36f_5cc9d36b9153row4_col6\" class=\"data row4 col6\" >Hospital Vitória Apart</td>\n",
       "            </tr>\n",
       "    </tbody></table>"
      ],
      "text/plain": [
       "<pandas.io.formats.style.Styler at 0xe7e4590>"
      ]
     },
     "execution_count": 104,
     "metadata": {},
     "output_type": "execute_result"
    }
   ],
   "source": [
    "df = pd.DataFrame(relatorio5)\n",
    "cm = sns.light_palette(\"purple\", as_cmap=True)\n",
    "df.style.background_gradient(cmap=cm)\n"
   ]
  },
  {
   "cell_type": "code",
   "execution_count": 98,
   "metadata": {},
   "outputs": [
    {
     "data": {
      "image/png": "[encoded data removed]",
      "text/plain": [
       "<Figure size 640x480 with 1 Axes>"
      ]
     },
     "metadata": {},
     "output_type": "display_data"
    }
   ],
   "source": [
    "import matplotlib.pyplot as plt; plt.rcdefaults()\n",
    "import numpy as np\n",
    "import matplotlib.pyplot as plt\n",
    " \n",
    "objects = tuple(df.tratamento)\n",
    "y_pos = np.arange(len(objects))\n",
    "performance = list(df.qtde_medicamento)\n",
    " \n",
    "plt.bar(y_pos, performance, align='center', alpha=0.5)\n",
    "plt.xticks(y_pos, objects)\n",
    "plt.ylabel('qtde_medicamento')\n",
    "plt.title('Quantidade de medicamentos por tratamento')\n",
    " \n",
    "plt.show()"
   ]
  },
  {
   "cell_type": "markdown",
   "metadata": {},
   "source": [
    "# Relatório 6 "
   ]
  },
  {
   "cell_type": "code",
   "execution_count": 87,
   "metadata": {},
   "outputs": [],
   "source": [
    "relatorio6 = pd.read_sql_query(\"\"\"\n",
    "select hosp.hospital,indisp.indisposicao \n",
    "as \"Tratamento\", count(trat.cod_indisposicao) as \"Número_tratamentos_finalizados\" from tratamento trat\n",
    "inner join hospital hosp on (trat.cod_hospital = hosp.cod_hospital)\n",
    "inner join indisposicao indisp on (trat.cod_indisposicao = indisp.cod_indisposicao)\n",
    "where fim_trat is not null group by hosp.hospital,indisp.indisposicao;\n",
    "                            \"\"\",conn)"
   ]
  },
  {
   "cell_type": "code",
   "execution_count": 88,
   "metadata": {
    "scrolled": true
   },
   "outputs": [
    {
     "data": {
      "text/html": [
       "<style  type=\"text/css\" >\n",
       "    #T_54281470_917c_11e9_8d87_5cc9d36b9153row0_col2 {\n",
       "            background-color:  #e5e5ff;\n",
       "            color:  #000000;\n",
       "        }    #T_54281470_917c_11e9_8d87_5cc9d36b9153row1_col2 {\n",
       "            background-color:  #e5e5ff;\n",
       "            color:  #000000;\n",
       "        }    #T_54281470_917c_11e9_8d87_5cc9d36b9153row2_col2 {\n",
       "            background-color:  #e5e5ff;\n",
       "            color:  #000000;\n",
       "        }    #T_54281470_917c_11e9_8d87_5cc9d36b9153row3_col2 {\n",
       "            background-color:  #e5e5ff;\n",
       "            color:  #000000;\n",
       "        }    #T_54281470_917c_11e9_8d87_5cc9d36b9153row4_col2 {\n",
       "            background-color:  #e5e5ff;\n",
       "            color:  #000000;\n",
       "        }    #T_54281470_917c_11e9_8d87_5cc9d36b9153row5_col2 {\n",
       "            background-color:  #e5e5ff;\n",
       "            color:  #000000;\n",
       "        }    #T_54281470_917c_11e9_8d87_5cc9d36b9153row6_col2 {\n",
       "            background-color:  #e5e5ff;\n",
       "            color:  #000000;\n",
       "        }    #T_54281470_917c_11e9_8d87_5cc9d36b9153row7_col2 {\n",
       "            background-color:  #e5e5ff;\n",
       "            color:  #000000;\n",
       "        }    #T_54281470_917c_11e9_8d87_5cc9d36b9153row8_col2 {\n",
       "            background-color:  #e5e5ff;\n",
       "            color:  #000000;\n",
       "        }    #T_54281470_917c_11e9_8d87_5cc9d36b9153row9_col2 {\n",
       "            background-color:  #e5e5ff;\n",
       "            color:  #000000;\n",
       "        }    #T_54281470_917c_11e9_8d87_5cc9d36b9153row10_col2 {\n",
       "            background-color:  #e5e5ff;\n",
       "            color:  #000000;\n",
       "        }    #T_54281470_917c_11e9_8d87_5cc9d36b9153row11_col2 {\n",
       "            background-color:  #e5e5ff;\n",
       "            color:  #000000;\n",
       "        }    #T_54281470_917c_11e9_8d87_5cc9d36b9153row12_col2 {\n",
       "            background-color:  #e5e5ff;\n",
       "            color:  #000000;\n",
       "        }    #T_54281470_917c_11e9_8d87_5cc9d36b9153row13_col2 {\n",
       "            background-color:  #e5e5ff;\n",
       "            color:  #000000;\n",
       "        }    #T_54281470_917c_11e9_8d87_5cc9d36b9153row14_col2 {\n",
       "            background-color:  #e5e5ff;\n",
       "            color:  #000000;\n",
       "        }    #T_54281470_917c_11e9_8d87_5cc9d36b9153row15_col2 {\n",
       "            background-color:  #e5e5ff;\n",
       "            color:  #000000;\n",
       "        }    #T_54281470_917c_11e9_8d87_5cc9d36b9153row16_col2 {\n",
       "            background-color:  #e5e5ff;\n",
       "            color:  #000000;\n",
       "        }    #T_54281470_917c_11e9_8d87_5cc9d36b9153row17_col2 {\n",
       "            background-color:  #e5e5ff;\n",
       "            color:  #000000;\n",
       "        }    #T_54281470_917c_11e9_8d87_5cc9d36b9153row18_col2 {\n",
       "            background-color:  #e5e5ff;\n",
       "            color:  #000000;\n",
       "        }</style><table id=\"T_54281470_917c_11e9_8d87_5cc9d36b9153\" ><thead>    <tr>        <th class=\"blank level0\" ></th>        <th class=\"col_heading level0 col0\" >hospital</th>        <th class=\"col_heading level0 col1\" >Tratamento</th>        <th class=\"col_heading level0 col2\" >Número_tratamentos_finalizados</th>    </tr></thead><tbody>\n",
       "                <tr>\n",
       "                        <th id=\"T_54281470_917c_11e9_8d87_5cc9d36b9153level0_row0\" class=\"row_heading level0 row0\" >0</th>\n",
       "                        <td id=\"T_54281470_917c_11e9_8d87_5cc9d36b9153row0_col0\" class=\"data row0 col0\" >Hospital Santa Cruz</td>\n",
       "                        <td id=\"T_54281470_917c_11e9_8d87_5cc9d36b9153row0_col1\" class=\"data row0 col1\" >Calculo Renal</td>\n",
       "                        <td id=\"T_54281470_917c_11e9_8d87_5cc9d36b9153row0_col2\" class=\"data row0 col2\" >1</td>\n",
       "            </tr>\n",
       "            <tr>\n",
       "                        <th id=\"T_54281470_917c_11e9_8d87_5cc9d36b9153level0_row1\" class=\"row_heading level0 row1\" >1</th>\n",
       "                        <td id=\"T_54281470_917c_11e9_8d87_5cc9d36b9153row1_col0\" class=\"data row1 col0\" >Clínica Viver Bem</td>\n",
       "                        <td id=\"T_54281470_917c_11e9_8d87_5cc9d36b9153row1_col1\" class=\"data row1 col1\" >Labirintite</td>\n",
       "                        <td id=\"T_54281470_917c_11e9_8d87_5cc9d36b9153row1_col2\" class=\"data row1 col2\" >1</td>\n",
       "            </tr>\n",
       "            <tr>\n",
       "                        <th id=\"T_54281470_917c_11e9_8d87_5cc9d36b9153level0_row2\" class=\"row_heading level0 row2\" >2</th>\n",
       "                        <td id=\"T_54281470_917c_11e9_8d87_5cc9d36b9153row2_col0\" class=\"data row2 col0\" >Hospital sao lucas</td>\n",
       "                        <td id=\"T_54281470_917c_11e9_8d87_5cc9d36b9153row2_col1\" class=\"data row2 col1\" >Gripe</td>\n",
       "                        <td id=\"T_54281470_917c_11e9_8d87_5cc9d36b9153row2_col2\" class=\"data row2 col2\" >1</td>\n",
       "            </tr>\n",
       "            <tr>\n",
       "                        <th id=\"T_54281470_917c_11e9_8d87_5cc9d36b9153level0_row3\" class=\"row_heading level0 row3\" >3</th>\n",
       "                        <td id=\"T_54281470_917c_11e9_8d87_5cc9d36b9153row3_col0\" class=\"data row3 col0\" >Hospital Vitória Apart</td>\n",
       "                        <td id=\"T_54281470_917c_11e9_8d87_5cc9d36b9153row3_col1\" class=\"data row3 col1\" >Gripe</td>\n",
       "                        <td id=\"T_54281470_917c_11e9_8d87_5cc9d36b9153row3_col2\" class=\"data row3 col2\" >1</td>\n",
       "            </tr>\n",
       "            <tr>\n",
       "                        <th id=\"T_54281470_917c_11e9_8d87_5cc9d36b9153level0_row4\" class=\"row_heading level0 row4\" >4</th>\n",
       "                        <td id=\"T_54281470_917c_11e9_8d87_5cc9d36b9153row4_col0\" class=\"data row4 col0\" >Hospital Santa Rosália</td>\n",
       "                        <td id=\"T_54281470_917c_11e9_8d87_5cc9d36b9153row4_col1\" class=\"data row4 col1\" >Conjuntivite</td>\n",
       "                        <td id=\"T_54281470_917c_11e9_8d87_5cc9d36b9153row4_col2\" class=\"data row4 col2\" >1</td>\n",
       "            </tr>\n",
       "            <tr>\n",
       "                        <th id=\"T_54281470_917c_11e9_8d87_5cc9d36b9153level0_row5\" class=\"row_heading level0 row5\" >5</th>\n",
       "                        <td id=\"T_54281470_917c_11e9_8d87_5cc9d36b9153row5_col0\" class=\"data row5 col0\" >Hospital Regional Dantas Biao</td>\n",
       "                        <td id=\"T_54281470_917c_11e9_8d87_5cc9d36b9153row5_col1\" class=\"data row5 col1\" >Catarata</td>\n",
       "                        <td id=\"T_54281470_917c_11e9_8d87_5cc9d36b9153row5_col2\" class=\"data row5 col2\" >1</td>\n",
       "            </tr>\n",
       "            <tr>\n",
       "                        <th id=\"T_54281470_917c_11e9_8d87_5cc9d36b9153level0_row6\" class=\"row_heading level0 row6\" >6</th>\n",
       "                        <td id=\"T_54281470_917c_11e9_8d87_5cc9d36b9153row6_col0\" class=\"data row6 col0\" >Hospital São Lucas Copacabana</td>\n",
       "                        <td id=\"T_54281470_917c_11e9_8d87_5cc9d36b9153row6_col1\" class=\"data row6 col1\" >Gastroenterite</td>\n",
       "                        <td id=\"T_54281470_917c_11e9_8d87_5cc9d36b9153row6_col2\" class=\"data row6 col2\" >1</td>\n",
       "            </tr>\n",
       "            <tr>\n",
       "                        <th id=\"T_54281470_917c_11e9_8d87_5cc9d36b9153level0_row7\" class=\"row_heading level0 row7\" >7</th>\n",
       "                        <td id=\"T_54281470_917c_11e9_8d87_5cc9d36b9153row7_col0\" class=\"data row7 col0\" >Hospital Israelita Albert Einstein</td>\n",
       "                        <td id=\"T_54281470_917c_11e9_8d87_5cc9d36b9153row7_col1\" class=\"data row7 col1\" >Pneumonia</td>\n",
       "                        <td id=\"T_54281470_917c_11e9_8d87_5cc9d36b9153row7_col2\" class=\"data row7 col2\" >1</td>\n",
       "            </tr>\n",
       "            <tr>\n",
       "                        <th id=\"T_54281470_917c_11e9_8d87_5cc9d36b9153level0_row8\" class=\"row_heading level0 row8\" >8</th>\n",
       "                        <td id=\"T_54281470_917c_11e9_8d87_5cc9d36b9153row8_col0\" class=\"data row8 col0\" >Hospital São Lucas Copacabana</td>\n",
       "                        <td id=\"T_54281470_917c_11e9_8d87_5cc9d36b9153row8_col1\" class=\"data row8 col1\" >Labirintite</td>\n",
       "                        <td id=\"T_54281470_917c_11e9_8d87_5cc9d36b9153row8_col2\" class=\"data row8 col2\" >1</td>\n",
       "            </tr>\n",
       "            <tr>\n",
       "                        <th id=\"T_54281470_917c_11e9_8d87_5cc9d36b9153level0_row9\" class=\"row_heading level0 row9\" >9</th>\n",
       "                        <td id=\"T_54281470_917c_11e9_8d87_5cc9d36b9153row9_col0\" class=\"data row9 col0\" >Hospital sao lucas</td>\n",
       "                        <td id=\"T_54281470_917c_11e9_8d87_5cc9d36b9153row9_col1\" class=\"data row9 col1\" >Dengue</td>\n",
       "                        <td id=\"T_54281470_917c_11e9_8d87_5cc9d36b9153row9_col2\" class=\"data row9 col2\" >1</td>\n",
       "            </tr>\n",
       "            <tr>\n",
       "                        <th id=\"T_54281470_917c_11e9_8d87_5cc9d36b9153level0_row10\" class=\"row_heading level0 row10\" >10</th>\n",
       "                        <td id=\"T_54281470_917c_11e9_8d87_5cc9d36b9153row10_col0\" class=\"data row10 col0\" >Hospital São Camilo</td>\n",
       "                        <td id=\"T_54281470_917c_11e9_8d87_5cc9d36b9153row10_col1\" class=\"data row10 col1\" >Sinusite</td>\n",
       "                        <td id=\"T_54281470_917c_11e9_8d87_5cc9d36b9153row10_col2\" class=\"data row10 col2\" >1</td>\n",
       "            </tr>\n",
       "            <tr>\n",
       "                        <th id=\"T_54281470_917c_11e9_8d87_5cc9d36b9153level0_row11\" class=\"row_heading level0 row11\" >11</th>\n",
       "                        <td id=\"T_54281470_917c_11e9_8d87_5cc9d36b9153row11_col0\" class=\"data row11 col0\" >Hospital São Camilo</td>\n",
       "                        <td id=\"T_54281470_917c_11e9_8d87_5cc9d36b9153row11_col1\" class=\"data row11 col1\" >Asma</td>\n",
       "                        <td id=\"T_54281470_917c_11e9_8d87_5cc9d36b9153row11_col2\" class=\"data row11 col2\" >1</td>\n",
       "            </tr>\n",
       "            <tr>\n",
       "                        <th id=\"T_54281470_917c_11e9_8d87_5cc9d36b9153level0_row12\" class=\"row_heading level0 row12\" >12</th>\n",
       "                        <td id=\"T_54281470_917c_11e9_8d87_5cc9d36b9153row12_col0\" class=\"data row12 col0\" >Hospital São Domingos</td>\n",
       "                        <td id=\"T_54281470_917c_11e9_8d87_5cc9d36b9153row12_col1\" class=\"data row12 col1\" >Pneumonia</td>\n",
       "                        <td id=\"T_54281470_917c_11e9_8d87_5cc9d36b9153row12_col2\" class=\"data row12 col2\" >1</td>\n",
       "            </tr>\n",
       "            <tr>\n",
       "                        <th id=\"T_54281470_917c_11e9_8d87_5cc9d36b9153level0_row13\" class=\"row_heading level0 row13\" >13</th>\n",
       "                        <td id=\"T_54281470_917c_11e9_8d87_5cc9d36b9153row13_col0\" class=\"data row13 col0\" >Hospital Israelita Albert Einstein</td>\n",
       "                        <td id=\"T_54281470_917c_11e9_8d87_5cc9d36b9153row13_col1\" class=\"data row13 col1\" >Dengue</td>\n",
       "                        <td id=\"T_54281470_917c_11e9_8d87_5cc9d36b9153row13_col2\" class=\"data row13 col2\" >1</td>\n",
       "            </tr>\n",
       "            <tr>\n",
       "                        <th id=\"T_54281470_917c_11e9_8d87_5cc9d36b9153level0_row14\" class=\"row_heading level0 row14\" >14</th>\n",
       "                        <td id=\"T_54281470_917c_11e9_8d87_5cc9d36b9153row14_col0\" class=\"data row14 col0\" >Hospital São Lucas Copacabana</td>\n",
       "                        <td id=\"T_54281470_917c_11e9_8d87_5cc9d36b9153row14_col1\" class=\"data row14 col1\" >Febre</td>\n",
       "                        <td id=\"T_54281470_917c_11e9_8d87_5cc9d36b9153row14_col2\" class=\"data row14 col2\" >1</td>\n",
       "            </tr>\n",
       "            <tr>\n",
       "                        <th id=\"T_54281470_917c_11e9_8d87_5cc9d36b9153level0_row15\" class=\"row_heading level0 row15\" >15</th>\n",
       "                        <td id=\"T_54281470_917c_11e9_8d87_5cc9d36b9153row15_col0\" class=\"data row15 col0\" >Hospital Vitória Apart</td>\n",
       "                        <td id=\"T_54281470_917c_11e9_8d87_5cc9d36b9153row15_col1\" class=\"data row15 col1\" >Hepatite C</td>\n",
       "                        <td id=\"T_54281470_917c_11e9_8d87_5cc9d36b9153row15_col2\" class=\"data row15 col2\" >1</td>\n",
       "            </tr>\n",
       "            <tr>\n",
       "                        <th id=\"T_54281470_917c_11e9_8d87_5cc9d36b9153level0_row16\" class=\"row_heading level0 row16\" >16</th>\n",
       "                        <td id=\"T_54281470_917c_11e9_8d87_5cc9d36b9153row16_col0\" class=\"data row16 col0\" >Hospital Paineiras</td>\n",
       "                        <td id=\"T_54281470_917c_11e9_8d87_5cc9d36b9153row16_col1\" class=\"data row16 col1\" >Sinusite</td>\n",
       "                        <td id=\"T_54281470_917c_11e9_8d87_5cc9d36b9153row16_col2\" class=\"data row16 col2\" >1</td>\n",
       "            </tr>\n",
       "            <tr>\n",
       "                        <th id=\"T_54281470_917c_11e9_8d87_5cc9d36b9153level0_row17\" class=\"row_heading level0 row17\" >17</th>\n",
       "                        <td id=\"T_54281470_917c_11e9_8d87_5cc9d36b9153row17_col0\" class=\"data row17 col0\" >Hospital Israelita Albert Einstein</td>\n",
       "                        <td id=\"T_54281470_917c_11e9_8d87_5cc9d36b9153row17_col1\" class=\"data row17 col1\" >Gripe</td>\n",
       "                        <td id=\"T_54281470_917c_11e9_8d87_5cc9d36b9153row17_col2\" class=\"data row17 col2\" >1</td>\n",
       "            </tr>\n",
       "            <tr>\n",
       "                        <th id=\"T_54281470_917c_11e9_8d87_5cc9d36b9153level0_row18\" class=\"row_heading level0 row18\" >18</th>\n",
       "                        <td id=\"T_54281470_917c_11e9_8d87_5cc9d36b9153row18_col0\" class=\"data row18 col0\" >Hospital Israelita Albert Einstein</td>\n",
       "                        <td id=\"T_54281470_917c_11e9_8d87_5cc9d36b9153row18_col1\" class=\"data row18 col1\" >Labirintite</td>\n",
       "                        <td id=\"T_54281470_917c_11e9_8d87_5cc9d36b9153row18_col2\" class=\"data row18 col2\" >1</td>\n",
       "            </tr>\n",
       "    </tbody></table>"
      ],
      "text/plain": [
       "<pandas.io.formats.style.Styler at 0x9e39ab0>"
      ]
     },
     "execution_count": 88,
     "metadata": {},
     "output_type": "execute_result"
    }
   ],
   "source": [
    "df = pd.DataFrame(relatorio6)\n",
    "cm = sns.light_palette(\"blue\", as_cmap=True)\n",
    "df.style.background_gradient(cmap=cm)"
   ]
  },
  {
   "cell_type": "code",
   "execution_count": null,
   "metadata": {},
   "outputs": [],
   "source": []
  },
  {
   "cell_type": "code",
   "execution_count": null,
   "metadata": {},
   "outputs": [],
   "source": []
  },
  {
   "cell_type": "code",
   "execution_count": null,
   "metadata": {},
   "outputs": [],
   "source": []
  }
 ],
 "metadata": {
  "kernelspec": {
   "display_name": "Python 3",
   "language": "python",
   "name": "python3"
  },
  "language_info": {
   "codemirror_mode": {
    "name": "ipython",
    "version": 3
   },
   "file_extension": ".py",
   "mimetype": "text/x-python",
   "name": "python",
   "nbconvert_exporter": "python",
   "pygments_lexer": "ipython3",
   "version": "3.6.4"
  }
 },
 "nbformat": 4,
 "nbformat_minor": 2
}
